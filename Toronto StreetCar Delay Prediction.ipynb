{
  "nbformat": 4,
  "nbformat_minor": 0,
  "metadata": {
    "accelerator": "GPU",
    "colab": {
      "name": "ML606_TermProject_V3_2.ipynb",
      "provenance": [],
      "collapsed_sections": []
    },
    "kernelspec": {
      "display_name": "Python 3",
      "name": "python3"
    },
    "language_info": {
      "name": "python"
    }
  },
  "cells": [
    {
      "cell_type": "code",
      "metadata": {
        "colab": {
          "base_uri": "https://localhost:8080/"
        },
        "id": "iXmDG9c0vwKO",
        "outputId": "1bed67fb-c499-4b16-9c95-31a785ebd83a"
      },
      "source": [
        "#importing all required libraries\n",
        "import pandas as pd\n",
        "import requests\n",
        "from sklearn.preprocessing import OrdinalEncoder\n",
        "import numpy as np\n",
        "import matplotlib.pyplot as plt\n",
        "import seaborn as sns\n",
        "from sklearn.model_selection import train_test_split\n",
        "import tensorflow as tf\n",
        "from collections import Counter\n",
        "from sklearn.preprocessing import LabelEncoder\n",
        "from sklearn.linear_model import LogisticRegression\n",
        "from sklearn.metrics import confusion_matrix\n",
        "from sklearn.metrics import accuracy_score\n",
        "from sklearn.metrics import precision_score\n",
        "from sklearn.metrics import recall_score\n",
        "from sklearn.metrics import  f1_score\n",
        "# selecting k best features using chi2 /chi-square.\n",
        "from tensorflow import keras\n",
        "from tensorflow.keras import layers\n",
        "from tensorflow.keras.layers.experimental import preprocessing\n",
        "from sklearn.linear_model import LogisticRegression\n",
        "from sklearn.tree import DecisionTreeClassifier\n",
        "from sklearn.svm import SVC\n",
        "from sklearn.neighbors import KNeighborsClassifier\n",
        "from sklearn.ensemble import RandomForestClassifier, AdaBoostClassifier, GradientBoostingClassifier\n",
        "from xgboost import XGBClassifier\n",
        "import tensorflow as tf\n",
        "from collections import Counter\n",
        "from sklearn.preprocessing import OrdinalEncoder\n",
        "import datetime  \n",
        "from datetime import date\n",
        "normalizer = preprocessing.Normalization()\n",
        "import imblearn\n",
        "from imblearn.under_sampling import RandomUnderSampler\n",
        "\n",
        "# evaluate a logistic regression model using k-fold cross-validation\n",
        "from numpy import mean\n",
        "from numpy import std\n",
        "from sklearn.model_selection import cross_val_score\n",
        "from tensorflow.keras.wrappers.scikit_learn import KerasClassifier\n",
        "from tensorflow.keras.models import Sequential \n",
        "from sklearn.model_selection import GridSearchCV\n",
        "from tensorflow.keras.layers import Dense \n",
        "\n",
        "from sklearn.model_selection import RepeatedStratifiedKFold\n",
        "from sklearn.ensemble import VotingClassifier\n",
        "np.random.seed(7)  # get repeatable outputs"
      ],
      "execution_count": 6,
      "outputs": [
        {
          "output_type": "stream",
          "text": [
            "/usr/local/lib/python3.7/dist-packages/sklearn/externals/six.py:31: FutureWarning: The module is deprecated in version 0.21 and will be removed in version 0.23 since we've dropped support for Python 2.7. Please rely on the official version of six (https://pypi.org/project/six/).\n",
            "  \"(https://pypi.org/project/six/).\", FutureWarning)\n",
            "/usr/local/lib/python3.7/dist-packages/sklearn/utils/deprecation.py:144: FutureWarning: The sklearn.neighbors.base module is  deprecated in version 0.22 and will be removed in version 0.24. The corresponding classes / functions should instead be imported from sklearn.neighbors. Anything that cannot be imported from sklearn.neighbors is now part of the private API.\n",
            "  warnings.warn(message, FutureWarning)\n"
          ],
          "name": "stderr"
        }
      ]
    },
    {
      "cell_type": "code",
      "metadata": {
        "id": "i0VNSvrDN0Bi"
      },
      "source": [
        "# 2.Get the data from online website\n",
        "url = \"https://ckan0.cf.opendata.inter.prod-toronto.ca/api/3/action/package_show\"\n",
        "params = { \"id\": \"b68cb71b-44a7-4394-97e2-5d2f41462a5d\"}\n",
        "package = requests.get(url, params = params).json()\n",
        "data = (package[\"result\"])\n",
        "datasetUrl = data['resources']\n",
        "urlLinks = [item['url'] for item in datasetUrl]\n"
      ],
      "execution_count": 7,
      "outputs": []
    },
    {
      "cell_type": "code",
      "metadata": {
        "colab": {
          "base_uri": "https://localhost:8080/"
        },
        "id": "NI4WqzwPPrGk",
        "outputId": "cf188142-78ee-46b7-ad77-eb68ca36e682"
      },
      "source": [
        "# myData = requests.get('https://ckan0.cf.opendata.inter.prod-toronto.ca/dataset/b68cb71b-44a7-4394-97e2-5d2f41462a5d/resource/4f115333-57c9-445c-a769-9b831798b314/download/ttc-streetcar-delay-data-2014.xlsx')\n",
        "\n",
        "# read the online excel sheet data into dataframes\n",
        "\n",
        "metaData = pd.read_excel(urlLinks[0],sheet_name=None)\n",
        "df2014 = pd.concat(pd.read_excel(urlLinks[1],sheet_name=None),ignore_index=True)\n",
        "df2015 = pd.concat(pd.read_excel(urlLinks[2],sheet_name=None),ignore_index=True)\n",
        "df2016 = pd.concat(pd.read_excel(urlLinks[3],sheet_name=None),ignore_index=True)\n",
        "df2017 = pd.concat(pd.read_excel(urlLinks[4],sheet_name=None),ignore_index=True)\n",
        "df2018 = pd.concat(pd.read_excel(urlLinks[5],sheet_name=None),ignore_index=True)\n",
        "df2019 = pd.concat(pd.read_excel(urlLinks[6],sheet_name=None),ignore_index=True)\n",
        "df2020 = pd.concat(pd.read_excel(urlLinks[7],sheet_name=None),ignore_index=True)\n",
        "\n",
        "# display the meta data of the dataset\n",
        "metaData"
      ],
      "execution_count": 8,
      "outputs": [
        {
          "output_type": "execute_result",
          "data": {
            "text/plain": [
              "{'Sheet1':     Field Name  ...              Example\n",
              " 0  Report Date  ...  2017-06-20 00:00:00\n",
              " 1        Route  ...                   51\n",
              " 2         Time  ...             00:35:00\n",
              " 3          Day  ...               Monday\n",
              " 4     Location  ...   York Mills Station\n",
              " 5     Incident  ...           Mechanical\n",
              " 6    Min Delay  ...                   10\n",
              " 7      Min Gap  ...                   20\n",
              " 8    Direction  ...                    N\n",
              " 9      Vehicle  ...                 1057\n",
              " \n",
              " [10 rows x 3 columns]}"
            ]
          },
          "metadata": {
            "tags": []
          },
          "execution_count": 8
        }
      ]
    },
    {
      "cell_type": "code",
      "metadata": {
        "colab": {
          "base_uri": "https://localhost:8080/",
          "height": 143
        },
        "id": "uPqx8ljDTf5S",
        "outputId": "c53a8c4e-8c81-4e12-f7a9-1659ce420ede"
      },
      "source": [
        "# checking 2019 data, and it has some extra columns// unneccesary data\n",
        "df2019.head(3)"
      ],
      "execution_count": 9,
      "outputs": [
        {
          "output_type": "execute_result",
          "data": {
            "text/html": [
              "<div>\n",
              "<style scoped>\n",
              "    .dataframe tbody tr th:only-of-type {\n",
              "        vertical-align: middle;\n",
              "    }\n",
              "\n",
              "    .dataframe tbody tr th {\n",
              "        vertical-align: top;\n",
              "    }\n",
              "\n",
              "    .dataframe thead th {\n",
              "        text-align: right;\n",
              "    }\n",
              "</style>\n",
              "<table border=\"1\" class=\"dataframe\">\n",
              "  <thead>\n",
              "    <tr style=\"text-align: right;\">\n",
              "      <th></th>\n",
              "      <th>Report Date</th>\n",
              "      <th>Route</th>\n",
              "      <th>Time</th>\n",
              "      <th>Day</th>\n",
              "      <th>Location</th>\n",
              "      <th>Incident</th>\n",
              "      <th>Min Delay</th>\n",
              "      <th>Min Gap</th>\n",
              "      <th>Direction</th>\n",
              "      <th>Vehicle</th>\n",
              "      <th>Incident ID</th>\n",
              "      <th>Delay</th>\n",
              "      <th>Gap</th>\n",
              "    </tr>\n",
              "  </thead>\n",
              "  <tbody>\n",
              "    <tr>\n",
              "      <th>0</th>\n",
              "      <td>2019-01-01</td>\n",
              "      <td>301</td>\n",
              "      <td>01:08:00</td>\n",
              "      <td>Tuesday</td>\n",
              "      <td>Queen/Braodview</td>\n",
              "      <td>Held By</td>\n",
              "      <td>6.0</td>\n",
              "      <td>13.0</td>\n",
              "      <td>E/B</td>\n",
              "      <td>4193.0</td>\n",
              "      <td>NaN</td>\n",
              "      <td>NaN</td>\n",
              "      <td>NaN</td>\n",
              "    </tr>\n",
              "    <tr>\n",
              "      <th>1</th>\n",
              "      <td>2019-01-01</td>\n",
              "      <td>511</td>\n",
              "      <td>01:30:00</td>\n",
              "      <td>Tuesday</td>\n",
              "      <td>Bathurst/College</td>\n",
              "      <td>Investigation</td>\n",
              "      <td>5.0</td>\n",
              "      <td>10.0</td>\n",
              "      <td>N/B</td>\n",
              "      <td>1038.0</td>\n",
              "      <td>NaN</td>\n",
              "      <td>NaN</td>\n",
              "      <td>NaN</td>\n",
              "    </tr>\n",
              "    <tr>\n",
              "      <th>2</th>\n",
              "      <td>2019-01-01</td>\n",
              "      <td>306</td>\n",
              "      <td>01:40:00</td>\n",
              "      <td>Tuesday</td>\n",
              "      <td>Dundas West stn.</td>\n",
              "      <td>Mechanical</td>\n",
              "      <td>8.0</td>\n",
              "      <td>16.0</td>\n",
              "      <td>W/B</td>\n",
              "      <td>4146.0</td>\n",
              "      <td>NaN</td>\n",
              "      <td>NaN</td>\n",
              "      <td>NaN</td>\n",
              "    </tr>\n",
              "  </tbody>\n",
              "</table>\n",
              "</div>"
            ],
            "text/plain": [
              "  Report Date  Route      Time      Day  ... Vehicle Incident ID  Delay  Gap\n",
              "0  2019-01-01    301  01:08:00  Tuesday  ...  4193.0         NaN    NaN  NaN\n",
              "1  2019-01-01    511  01:30:00  Tuesday  ...  1038.0         NaN    NaN  NaN\n",
              "2  2019-01-01    306  01:40:00  Tuesday  ...  4146.0         NaN    NaN  NaN\n",
              "\n",
              "[3 rows x 13 columns]"
            ]
          },
          "metadata": {
            "tags": []
          },
          "execution_count": 9
        }
      ]
    },
    {
      "cell_type": "code",
      "metadata": {
        "colab": {
          "base_uri": "https://localhost:8080/",
          "height": 206
        },
        "id": "yS_KqL3UPN-f",
        "outputId": "246c1c49-2beb-4ae7-d36f-98985b2b78f8"
      },
      "source": [
        "df2020.head()"
      ],
      "execution_count": 10,
      "outputs": [
        {
          "output_type": "execute_result",
          "data": {
            "text/html": [
              "<div>\n",
              "<style scoped>\n",
              "    .dataframe tbody tr th:only-of-type {\n",
              "        vertical-align: middle;\n",
              "    }\n",
              "\n",
              "    .dataframe tbody tr th {\n",
              "        vertical-align: top;\n",
              "    }\n",
              "\n",
              "    .dataframe thead th {\n",
              "        text-align: right;\n",
              "    }\n",
              "</style>\n",
              "<table border=\"1\" class=\"dataframe\">\n",
              "  <thead>\n",
              "    <tr style=\"text-align: right;\">\n",
              "      <th></th>\n",
              "      <th>Report Date</th>\n",
              "      <th>Route</th>\n",
              "      <th>Time</th>\n",
              "      <th>Day</th>\n",
              "      <th>Location</th>\n",
              "      <th>Incident</th>\n",
              "      <th>Delay</th>\n",
              "      <th>Gap</th>\n",
              "      <th>Direction</th>\n",
              "      <th>Vehicle</th>\n",
              "    </tr>\n",
              "  </thead>\n",
              "  <tbody>\n",
              "    <tr>\n",
              "      <th>0</th>\n",
              "      <td>2020-01-01</td>\n",
              "      <td>504</td>\n",
              "      <td>01:23:00</td>\n",
              "      <td>Wednesday</td>\n",
              "      <td>King and Dufferin</td>\n",
              "      <td>Mechanical</td>\n",
              "      <td>8.0</td>\n",
              "      <td>16.0</td>\n",
              "      <td>E/B</td>\n",
              "      <td>4446.0</td>\n",
              "    </tr>\n",
              "    <tr>\n",
              "      <th>1</th>\n",
              "      <td>2020-01-01</td>\n",
              "      <td>512</td>\n",
              "      <td>04:40:00</td>\n",
              "      <td>Wednesday</td>\n",
              "      <td>Queen/Parliament</td>\n",
              "      <td>Mechanical</td>\n",
              "      <td>23.0</td>\n",
              "      <td>46.0</td>\n",
              "      <td>W/B</td>\n",
              "      <td>4541.0</td>\n",
              "    </tr>\n",
              "    <tr>\n",
              "      <th>2</th>\n",
              "      <td>2020-01-01</td>\n",
              "      <td>504</td>\n",
              "      <td>06:17:00</td>\n",
              "      <td>Wednesday</td>\n",
              "      <td>Roncesvalles and Queen</td>\n",
              "      <td>Mechanical</td>\n",
              "      <td>6.0</td>\n",
              "      <td>14.0</td>\n",
              "      <td>W/B</td>\n",
              "      <td>4576.0</td>\n",
              "    </tr>\n",
              "    <tr>\n",
              "      <th>3</th>\n",
              "      <td>2020-01-01</td>\n",
              "      <td>504</td>\n",
              "      <td>07:50:00</td>\n",
              "      <td>Wednesday</td>\n",
              "      <td>King/Church</td>\n",
              "      <td>Mechanical</td>\n",
              "      <td>10.0</td>\n",
              "      <td>20.0</td>\n",
              "      <td>W/B</td>\n",
              "      <td>4486.0</td>\n",
              "    </tr>\n",
              "    <tr>\n",
              "      <th>4</th>\n",
              "      <td>2020-01-01</td>\n",
              "      <td>504</td>\n",
              "      <td>08:09:00</td>\n",
              "      <td>Wednesday</td>\n",
              "      <td>Queeen/ Roncesvalles</td>\n",
              "      <td>Mechanical</td>\n",
              "      <td>8.0</td>\n",
              "      <td>16.0</td>\n",
              "      <td>E/B</td>\n",
              "      <td>4504.0</td>\n",
              "    </tr>\n",
              "  </tbody>\n",
              "</table>\n",
              "</div>"
            ],
            "text/plain": [
              "  Report Date  Route      Time        Day  ... Delay   Gap  Direction  Vehicle\n",
              "0  2020-01-01    504  01:23:00  Wednesday  ...   8.0  16.0        E/B   4446.0\n",
              "1  2020-01-01    512  04:40:00  Wednesday  ...  23.0  46.0        W/B   4541.0\n",
              "2  2020-01-01    504  06:17:00  Wednesday  ...   6.0  14.0        W/B   4576.0\n",
              "3  2020-01-01    504  07:50:00  Wednesday  ...  10.0  20.0        W/B   4486.0\n",
              "4  2020-01-01    504  08:09:00  Wednesday  ...   8.0  16.0        E/B   4504.0\n",
              "\n",
              "[5 rows x 10 columns]"
            ]
          },
          "metadata": {
            "tags": []
          },
          "execution_count": 10
        }
      ]
    },
    {
      "cell_type": "code",
      "metadata": {
        "colab": {
          "base_uri": "https://localhost:8080/",
          "height": 206
        },
        "id": "20IavU2gWC7-",
        "outputId": "8b58a6b1-ccbe-45a1-c05c-3af83349121d"
      },
      "source": [
        "# df2019 has three extra wrong column names:'Delay' and 'Gap' , so drop them: \n",
        "df2019.drop(columns=['Gap','Delay','Incident ID'],axis=1, inplace=True)\n",
        "df2019.head()"
      ],
      "execution_count": 11,
      "outputs": [
        {
          "output_type": "execute_result",
          "data": {
            "text/html": [
              "<div>\n",
              "<style scoped>\n",
              "    .dataframe tbody tr th:only-of-type {\n",
              "        vertical-align: middle;\n",
              "    }\n",
              "\n",
              "    .dataframe tbody tr th {\n",
              "        vertical-align: top;\n",
              "    }\n",
              "\n",
              "    .dataframe thead th {\n",
              "        text-align: right;\n",
              "    }\n",
              "</style>\n",
              "<table border=\"1\" class=\"dataframe\">\n",
              "  <thead>\n",
              "    <tr style=\"text-align: right;\">\n",
              "      <th></th>\n",
              "      <th>Report Date</th>\n",
              "      <th>Route</th>\n",
              "      <th>Time</th>\n",
              "      <th>Day</th>\n",
              "      <th>Location</th>\n",
              "      <th>Incident</th>\n",
              "      <th>Min Delay</th>\n",
              "      <th>Min Gap</th>\n",
              "      <th>Direction</th>\n",
              "      <th>Vehicle</th>\n",
              "    </tr>\n",
              "  </thead>\n",
              "  <tbody>\n",
              "    <tr>\n",
              "      <th>0</th>\n",
              "      <td>2019-01-01</td>\n",
              "      <td>301</td>\n",
              "      <td>01:08:00</td>\n",
              "      <td>Tuesday</td>\n",
              "      <td>Queen/Braodview</td>\n",
              "      <td>Held By</td>\n",
              "      <td>6.0</td>\n",
              "      <td>13.0</td>\n",
              "      <td>E/B</td>\n",
              "      <td>4193.0</td>\n",
              "    </tr>\n",
              "    <tr>\n",
              "      <th>1</th>\n",
              "      <td>2019-01-01</td>\n",
              "      <td>511</td>\n",
              "      <td>01:30:00</td>\n",
              "      <td>Tuesday</td>\n",
              "      <td>Bathurst/College</td>\n",
              "      <td>Investigation</td>\n",
              "      <td>5.0</td>\n",
              "      <td>10.0</td>\n",
              "      <td>N/B</td>\n",
              "      <td>1038.0</td>\n",
              "    </tr>\n",
              "    <tr>\n",
              "      <th>2</th>\n",
              "      <td>2019-01-01</td>\n",
              "      <td>306</td>\n",
              "      <td>01:40:00</td>\n",
              "      <td>Tuesday</td>\n",
              "      <td>Dundas West stn.</td>\n",
              "      <td>Mechanical</td>\n",
              "      <td>8.0</td>\n",
              "      <td>16.0</td>\n",
              "      <td>W/B</td>\n",
              "      <td>4146.0</td>\n",
              "    </tr>\n",
              "    <tr>\n",
              "      <th>3</th>\n",
              "      <td>2019-01-01</td>\n",
              "      <td>505</td>\n",
              "      <td>03:10:00</td>\n",
              "      <td>Tuesday</td>\n",
              "      <td>Lansdowne and Dundas</td>\n",
              "      <td>Mechanical</td>\n",
              "      <td>6.0</td>\n",
              "      <td>12.0</td>\n",
              "      <td>E/B</td>\n",
              "      <td>8416.0</td>\n",
              "    </tr>\n",
              "    <tr>\n",
              "      <th>4</th>\n",
              "      <td>2019-01-01</td>\n",
              "      <td>310</td>\n",
              "      <td>03:55:00</td>\n",
              "      <td>Tuesday</td>\n",
              "      <td>Spadina and Lakshore</td>\n",
              "      <td>Held By</td>\n",
              "      <td>20.0</td>\n",
              "      <td>30.0</td>\n",
              "      <td>N/B</td>\n",
              "      <td>4465.0</td>\n",
              "    </tr>\n",
              "  </tbody>\n",
              "</table>\n",
              "</div>"
            ],
            "text/plain": [
              "  Report Date  Route      Time      Day  ... Min Delay Min Gap  Direction  Vehicle\n",
              "0  2019-01-01    301  01:08:00  Tuesday  ...       6.0    13.0        E/B   4193.0\n",
              "1  2019-01-01    511  01:30:00  Tuesday  ...       5.0    10.0        N/B   1038.0\n",
              "2  2019-01-01    306  01:40:00  Tuesday  ...       8.0    16.0        W/B   4146.0\n",
              "3  2019-01-01    505  03:10:00  Tuesday  ...       6.0    12.0        E/B   8416.0\n",
              "4  2019-01-01    310  03:55:00  Tuesday  ...      20.0    30.0        N/B   4465.0\n",
              "\n",
              "[5 rows x 10 columns]"
            ]
          },
          "metadata": {
            "tags": []
          },
          "execution_count": 11
        }
      ]
    },
    {
      "cell_type": "code",
      "metadata": {
        "colab": {
          "base_uri": "https://localhost:8080/",
          "height": 206
        },
        "id": "lVd_He6lTlVC",
        "outputId": "aaf26f43-8d29-4294-a1e1-5530577ccc9d"
      },
      "source": [
        "# rename them to 'Min Delay' and 'Min Gap' of column 2020 data since it has different column names\n",
        "df2020.columns = df2019.columns     # so both df2020 will have the same column names  \n",
        "df2020.head()  "
      ],
      "execution_count": 12,
      "outputs": [
        {
          "output_type": "execute_result",
          "data": {
            "text/html": [
              "<div>\n",
              "<style scoped>\n",
              "    .dataframe tbody tr th:only-of-type {\n",
              "        vertical-align: middle;\n",
              "    }\n",
              "\n",
              "    .dataframe tbody tr th {\n",
              "        vertical-align: top;\n",
              "    }\n",
              "\n",
              "    .dataframe thead th {\n",
              "        text-align: right;\n",
              "    }\n",
              "</style>\n",
              "<table border=\"1\" class=\"dataframe\">\n",
              "  <thead>\n",
              "    <tr style=\"text-align: right;\">\n",
              "      <th></th>\n",
              "      <th>Report Date</th>\n",
              "      <th>Route</th>\n",
              "      <th>Time</th>\n",
              "      <th>Day</th>\n",
              "      <th>Location</th>\n",
              "      <th>Incident</th>\n",
              "      <th>Min Delay</th>\n",
              "      <th>Min Gap</th>\n",
              "      <th>Direction</th>\n",
              "      <th>Vehicle</th>\n",
              "    </tr>\n",
              "  </thead>\n",
              "  <tbody>\n",
              "    <tr>\n",
              "      <th>0</th>\n",
              "      <td>2020-01-01</td>\n",
              "      <td>504</td>\n",
              "      <td>01:23:00</td>\n",
              "      <td>Wednesday</td>\n",
              "      <td>King and Dufferin</td>\n",
              "      <td>Mechanical</td>\n",
              "      <td>8.0</td>\n",
              "      <td>16.0</td>\n",
              "      <td>E/B</td>\n",
              "      <td>4446.0</td>\n",
              "    </tr>\n",
              "    <tr>\n",
              "      <th>1</th>\n",
              "      <td>2020-01-01</td>\n",
              "      <td>512</td>\n",
              "      <td>04:40:00</td>\n",
              "      <td>Wednesday</td>\n",
              "      <td>Queen/Parliament</td>\n",
              "      <td>Mechanical</td>\n",
              "      <td>23.0</td>\n",
              "      <td>46.0</td>\n",
              "      <td>W/B</td>\n",
              "      <td>4541.0</td>\n",
              "    </tr>\n",
              "    <tr>\n",
              "      <th>2</th>\n",
              "      <td>2020-01-01</td>\n",
              "      <td>504</td>\n",
              "      <td>06:17:00</td>\n",
              "      <td>Wednesday</td>\n",
              "      <td>Roncesvalles and Queen</td>\n",
              "      <td>Mechanical</td>\n",
              "      <td>6.0</td>\n",
              "      <td>14.0</td>\n",
              "      <td>W/B</td>\n",
              "      <td>4576.0</td>\n",
              "    </tr>\n",
              "    <tr>\n",
              "      <th>3</th>\n",
              "      <td>2020-01-01</td>\n",
              "      <td>504</td>\n",
              "      <td>07:50:00</td>\n",
              "      <td>Wednesday</td>\n",
              "      <td>King/Church</td>\n",
              "      <td>Mechanical</td>\n",
              "      <td>10.0</td>\n",
              "      <td>20.0</td>\n",
              "      <td>W/B</td>\n",
              "      <td>4486.0</td>\n",
              "    </tr>\n",
              "    <tr>\n",
              "      <th>4</th>\n",
              "      <td>2020-01-01</td>\n",
              "      <td>504</td>\n",
              "      <td>08:09:00</td>\n",
              "      <td>Wednesday</td>\n",
              "      <td>Queeen/ Roncesvalles</td>\n",
              "      <td>Mechanical</td>\n",
              "      <td>8.0</td>\n",
              "      <td>16.0</td>\n",
              "      <td>E/B</td>\n",
              "      <td>4504.0</td>\n",
              "    </tr>\n",
              "  </tbody>\n",
              "</table>\n",
              "</div>"
            ],
            "text/plain": [
              "  Report Date  Route      Time  ... Min Gap Direction Vehicle\n",
              "0  2020-01-01    504  01:23:00  ...    16.0       E/B  4446.0\n",
              "1  2020-01-01    512  04:40:00  ...    46.0       W/B  4541.0\n",
              "2  2020-01-01    504  06:17:00  ...    14.0       W/B  4576.0\n",
              "3  2020-01-01    504  07:50:00  ...    20.0       W/B  4486.0\n",
              "4  2020-01-01    504  08:09:00  ...    16.0       E/B  4504.0\n",
              "\n",
              "[5 rows x 10 columns]"
            ]
          },
          "metadata": {
            "tags": []
          },
          "execution_count": 12
        }
      ]
    },
    {
      "cell_type": "code",
      "metadata": {
        "id": "4GP-8yIOxKe8"
      },
      "source": [
        "dfs = [df2014, df2015,df2016,df2017,df2018,df2019,df2020] # store the frames into a list dfs"
      ],
      "execution_count": 13,
      "outputs": []
    },
    {
      "cell_type": "code",
      "metadata": {
        "colab": {
          "base_uri": "https://localhost:8080/",
          "height": 206
        },
        "id": "vJ6GKeNJLXVT",
        "outputId": "9012c690-91a4-4cdf-bd48-af5ef95ae1c5"
      },
      "source": [
        "# prepare the data sets by concatenating all the dataframes\n",
        "df = pd.concat(dfs, axis=0,ignore_index=True)       # or df= dfs[0].append(dfs[1:6]) would do the trick\n",
        "df.tail(5)"
      ],
      "execution_count": 14,
      "outputs": [
        {
          "output_type": "execute_result",
          "data": {
            "text/html": [
              "<div>\n",
              "<style scoped>\n",
              "    .dataframe tbody tr th:only-of-type {\n",
              "        vertical-align: middle;\n",
              "    }\n",
              "\n",
              "    .dataframe tbody tr th {\n",
              "        vertical-align: top;\n",
              "    }\n",
              "\n",
              "    .dataframe thead th {\n",
              "        text-align: right;\n",
              "    }\n",
              "</style>\n",
              "<table border=\"1\" class=\"dataframe\">\n",
              "  <thead>\n",
              "    <tr style=\"text-align: right;\">\n",
              "      <th></th>\n",
              "      <th>Report Date</th>\n",
              "      <th>Route</th>\n",
              "      <th>Time</th>\n",
              "      <th>Day</th>\n",
              "      <th>Location</th>\n",
              "      <th>Incident</th>\n",
              "      <th>Min Delay</th>\n",
              "      <th>Min Gap</th>\n",
              "      <th>Direction</th>\n",
              "      <th>Vehicle</th>\n",
              "    </tr>\n",
              "  </thead>\n",
              "  <tbody>\n",
              "    <tr>\n",
              "      <th>82697</th>\n",
              "      <td>2020-07-26</td>\n",
              "      <td>501</td>\n",
              "      <td>12:58:00</td>\n",
              "      <td>Sunday</td>\n",
              "      <td>QUEEN AND DUFFERIN</td>\n",
              "      <td>Mechanical</td>\n",
              "      <td>10.0</td>\n",
              "      <td>20.0</td>\n",
              "      <td>W/B</td>\n",
              "      <td>4422.0</td>\n",
              "    </tr>\n",
              "    <tr>\n",
              "      <th>82698</th>\n",
              "      <td>2020-07-27</td>\n",
              "      <td>301</td>\n",
              "      <td>02:09:00</td>\n",
              "      <td>Monday</td>\n",
              "      <td>QUEEN AND YORK</td>\n",
              "      <td>Mechanical</td>\n",
              "      <td>25.0</td>\n",
              "      <td>35.0</td>\n",
              "      <td>E/B</td>\n",
              "      <td>4514.0</td>\n",
              "    </tr>\n",
              "    <tr>\n",
              "      <th>82699</th>\n",
              "      <td>2020-07-27</td>\n",
              "      <td>306</td>\n",
              "      <td>02:20:00</td>\n",
              "      <td>Monday</td>\n",
              "      <td>Dundas West Station</td>\n",
              "      <td>Emergency Services</td>\n",
              "      <td>19.0</td>\n",
              "      <td>34.0</td>\n",
              "      <td>E/B</td>\n",
              "      <td>3129.0</td>\n",
              "    </tr>\n",
              "    <tr>\n",
              "      <th>82700</th>\n",
              "      <td>2020-08-03</td>\n",
              "      <td>504</td>\n",
              "      <td>00:56:00</td>\n",
              "      <td>Monday</td>\n",
              "      <td>Dufferin Loop</td>\n",
              "      <td>Mechanical</td>\n",
              "      <td>10.0</td>\n",
              "      <td>20.0</td>\n",
              "      <td>E/B</td>\n",
              "      <td>4464.0</td>\n",
              "    </tr>\n",
              "    <tr>\n",
              "      <th>82701</th>\n",
              "      <td>2020-08-03</td>\n",
              "      <td>501</td>\n",
              "      <td>23:42:00</td>\n",
              "      <td>Monday</td>\n",
              "      <td>Queen and Connaught (Russell Trailer Track)</td>\n",
              "      <td>Investigation</td>\n",
              "      <td>10.0</td>\n",
              "      <td>20.0</td>\n",
              "      <td>W/B</td>\n",
              "      <td>4466.0</td>\n",
              "    </tr>\n",
              "  </tbody>\n",
              "</table>\n",
              "</div>"
            ],
            "text/plain": [
              "      Report Date  Route      Time  ... Min Gap Direction Vehicle\n",
              "82697  2020-07-26    501  12:58:00  ...    20.0       W/B  4422.0\n",
              "82698  2020-07-27    301  02:09:00  ...    35.0       E/B  4514.0\n",
              "82699  2020-07-27    306  02:20:00  ...    34.0       E/B  3129.0\n",
              "82700  2020-08-03    504  00:56:00  ...    20.0       E/B  4464.0\n",
              "82701  2020-08-03    501  23:42:00  ...    20.0       W/B  4466.0\n",
              "\n",
              "[5 rows x 10 columns]"
            ]
          },
          "metadata": {
            "tags": []
          },
          "execution_count": 14
        }
      ]
    },
    {
      "cell_type": "markdown",
      "metadata": {
        "id": "Qoi4V2Zfgm44"
      },
      "source": [
        "# 2. Data Preprocessing -cleaning the is data is important, then Explore it to gain insights.\n"
      ]
    },
    {
      "cell_type": "code",
      "metadata": {
        "colab": {
          "base_uri": "https://localhost:8080/"
        },
        "id": "ZBEZdAkutxsB",
        "outputId": "f68d3d31-6b39-4b24-c142-466c617c74f7"
      },
      "source": [
        "# checking  number of rows of each column with missing values\n",
        "df.isna().sum()"
      ],
      "execution_count": 15,
      "outputs": [
        {
          "output_type": "execute_result",
          "data": {
            "text/plain": [
              "Report Date       0\n",
              "Route             0\n",
              "Time              0\n",
              "Day               0\n",
              "Location        263\n",
              "Incident          0\n",
              "Min Delay      3523\n",
              "Min Gap        3555\n",
              "Direction       309\n",
              "Vehicle        4685\n",
              "dtype: int64"
            ]
          },
          "metadata": {
            "tags": []
          },
          "execution_count": 15
        }
      ]
    },
    {
      "cell_type": "code",
      "metadata": {
        "colab": {
          "base_uri": "https://localhost:8080/",
          "height": 206
        },
        "id": "UR-QFkTR3_2u",
        "outputId": "ac493132-d714-44e1-e717-12998516b208"
      },
      "source": [
        "#dropping the rows with a missing values   \n",
        "df.dropna(inplace=True)\n",
        "# reset index of the data frame\n",
        "df.reset_index(inplace=True)\n",
        "df.tail()"
      ],
      "execution_count": 16,
      "outputs": [
        {
          "output_type": "execute_result",
          "data": {
            "text/html": [
              "<div>\n",
              "<style scoped>\n",
              "    .dataframe tbody tr th:only-of-type {\n",
              "        vertical-align: middle;\n",
              "    }\n",
              "\n",
              "    .dataframe tbody tr th {\n",
              "        vertical-align: top;\n",
              "    }\n",
              "\n",
              "    .dataframe thead th {\n",
              "        text-align: right;\n",
              "    }\n",
              "</style>\n",
              "<table border=\"1\" class=\"dataframe\">\n",
              "  <thead>\n",
              "    <tr style=\"text-align: right;\">\n",
              "      <th></th>\n",
              "      <th>index</th>\n",
              "      <th>Report Date</th>\n",
              "      <th>Route</th>\n",
              "      <th>Time</th>\n",
              "      <th>Day</th>\n",
              "      <th>Location</th>\n",
              "      <th>Incident</th>\n",
              "      <th>Min Delay</th>\n",
              "      <th>Min Gap</th>\n",
              "      <th>Direction</th>\n",
              "      <th>Vehicle</th>\n",
              "    </tr>\n",
              "  </thead>\n",
              "  <tbody>\n",
              "    <tr>\n",
              "      <th>74122</th>\n",
              "      <td>82697</td>\n",
              "      <td>2020-07-26</td>\n",
              "      <td>501</td>\n",
              "      <td>12:58:00</td>\n",
              "      <td>Sunday</td>\n",
              "      <td>QUEEN AND DUFFERIN</td>\n",
              "      <td>Mechanical</td>\n",
              "      <td>10.0</td>\n",
              "      <td>20.0</td>\n",
              "      <td>W/B</td>\n",
              "      <td>4422.0</td>\n",
              "    </tr>\n",
              "    <tr>\n",
              "      <th>74123</th>\n",
              "      <td>82698</td>\n",
              "      <td>2020-07-27</td>\n",
              "      <td>301</td>\n",
              "      <td>02:09:00</td>\n",
              "      <td>Monday</td>\n",
              "      <td>QUEEN AND YORK</td>\n",
              "      <td>Mechanical</td>\n",
              "      <td>25.0</td>\n",
              "      <td>35.0</td>\n",
              "      <td>E/B</td>\n",
              "      <td>4514.0</td>\n",
              "    </tr>\n",
              "    <tr>\n",
              "      <th>74124</th>\n",
              "      <td>82699</td>\n",
              "      <td>2020-07-27</td>\n",
              "      <td>306</td>\n",
              "      <td>02:20:00</td>\n",
              "      <td>Monday</td>\n",
              "      <td>Dundas West Station</td>\n",
              "      <td>Emergency Services</td>\n",
              "      <td>19.0</td>\n",
              "      <td>34.0</td>\n",
              "      <td>E/B</td>\n",
              "      <td>3129.0</td>\n",
              "    </tr>\n",
              "    <tr>\n",
              "      <th>74125</th>\n",
              "      <td>82700</td>\n",
              "      <td>2020-08-03</td>\n",
              "      <td>504</td>\n",
              "      <td>00:56:00</td>\n",
              "      <td>Monday</td>\n",
              "      <td>Dufferin Loop</td>\n",
              "      <td>Mechanical</td>\n",
              "      <td>10.0</td>\n",
              "      <td>20.0</td>\n",
              "      <td>E/B</td>\n",
              "      <td>4464.0</td>\n",
              "    </tr>\n",
              "    <tr>\n",
              "      <th>74126</th>\n",
              "      <td>82701</td>\n",
              "      <td>2020-08-03</td>\n",
              "      <td>501</td>\n",
              "      <td>23:42:00</td>\n",
              "      <td>Monday</td>\n",
              "      <td>Queen and Connaught (Russell Trailer Track)</td>\n",
              "      <td>Investigation</td>\n",
              "      <td>10.0</td>\n",
              "      <td>20.0</td>\n",
              "      <td>W/B</td>\n",
              "      <td>4466.0</td>\n",
              "    </tr>\n",
              "  </tbody>\n",
              "</table>\n",
              "</div>"
            ],
            "text/plain": [
              "       index Report Date  Route  ... Min Gap Direction Vehicle\n",
              "74122  82697  2020-07-26    501  ...    20.0       W/B  4422.0\n",
              "74123  82698  2020-07-27    301  ...    35.0       E/B  4514.0\n",
              "74124  82699  2020-07-27    306  ...    34.0       E/B  3129.0\n",
              "74125  82700  2020-08-03    504  ...    20.0       E/B  4464.0\n",
              "74126  82701  2020-08-03    501  ...    20.0       W/B  4466.0\n",
              "\n",
              "[5 rows x 11 columns]"
            ]
          },
          "metadata": {
            "tags": []
          },
          "execution_count": 16
        }
      ]
    },
    {
      "cell_type": "code",
      "metadata": {
        "colab": {
          "base_uri": "https://localhost:8080/",
          "height": 206
        },
        "id": "TjLw87bAZ0ri",
        "outputId": "c89aec6d-67c1-47a3-be9d-51d9c747cf0b"
      },
      "source": [
        "# drop the index of the data\n",
        "df.drop(labels='index',axis=1,inplace=True)\n",
        "df.tail(5)"
      ],
      "execution_count": 17,
      "outputs": [
        {
          "output_type": "execute_result",
          "data": {
            "text/html": [
              "<div>\n",
              "<style scoped>\n",
              "    .dataframe tbody tr th:only-of-type {\n",
              "        vertical-align: middle;\n",
              "    }\n",
              "\n",
              "    .dataframe tbody tr th {\n",
              "        vertical-align: top;\n",
              "    }\n",
              "\n",
              "    .dataframe thead th {\n",
              "        text-align: right;\n",
              "    }\n",
              "</style>\n",
              "<table border=\"1\" class=\"dataframe\">\n",
              "  <thead>\n",
              "    <tr style=\"text-align: right;\">\n",
              "      <th></th>\n",
              "      <th>Report Date</th>\n",
              "      <th>Route</th>\n",
              "      <th>Time</th>\n",
              "      <th>Day</th>\n",
              "      <th>Location</th>\n",
              "      <th>Incident</th>\n",
              "      <th>Min Delay</th>\n",
              "      <th>Min Gap</th>\n",
              "      <th>Direction</th>\n",
              "      <th>Vehicle</th>\n",
              "    </tr>\n",
              "  </thead>\n",
              "  <tbody>\n",
              "    <tr>\n",
              "      <th>74122</th>\n",
              "      <td>2020-07-26</td>\n",
              "      <td>501</td>\n",
              "      <td>12:58:00</td>\n",
              "      <td>Sunday</td>\n",
              "      <td>QUEEN AND DUFFERIN</td>\n",
              "      <td>Mechanical</td>\n",
              "      <td>10.0</td>\n",
              "      <td>20.0</td>\n",
              "      <td>W/B</td>\n",
              "      <td>4422.0</td>\n",
              "    </tr>\n",
              "    <tr>\n",
              "      <th>74123</th>\n",
              "      <td>2020-07-27</td>\n",
              "      <td>301</td>\n",
              "      <td>02:09:00</td>\n",
              "      <td>Monday</td>\n",
              "      <td>QUEEN AND YORK</td>\n",
              "      <td>Mechanical</td>\n",
              "      <td>25.0</td>\n",
              "      <td>35.0</td>\n",
              "      <td>E/B</td>\n",
              "      <td>4514.0</td>\n",
              "    </tr>\n",
              "    <tr>\n",
              "      <th>74124</th>\n",
              "      <td>2020-07-27</td>\n",
              "      <td>306</td>\n",
              "      <td>02:20:00</td>\n",
              "      <td>Monday</td>\n",
              "      <td>Dundas West Station</td>\n",
              "      <td>Emergency Services</td>\n",
              "      <td>19.0</td>\n",
              "      <td>34.0</td>\n",
              "      <td>E/B</td>\n",
              "      <td>3129.0</td>\n",
              "    </tr>\n",
              "    <tr>\n",
              "      <th>74125</th>\n",
              "      <td>2020-08-03</td>\n",
              "      <td>504</td>\n",
              "      <td>00:56:00</td>\n",
              "      <td>Monday</td>\n",
              "      <td>Dufferin Loop</td>\n",
              "      <td>Mechanical</td>\n",
              "      <td>10.0</td>\n",
              "      <td>20.0</td>\n",
              "      <td>E/B</td>\n",
              "      <td>4464.0</td>\n",
              "    </tr>\n",
              "    <tr>\n",
              "      <th>74126</th>\n",
              "      <td>2020-08-03</td>\n",
              "      <td>501</td>\n",
              "      <td>23:42:00</td>\n",
              "      <td>Monday</td>\n",
              "      <td>Queen and Connaught (Russell Trailer Track)</td>\n",
              "      <td>Investigation</td>\n",
              "      <td>10.0</td>\n",
              "      <td>20.0</td>\n",
              "      <td>W/B</td>\n",
              "      <td>4466.0</td>\n",
              "    </tr>\n",
              "  </tbody>\n",
              "</table>\n",
              "</div>"
            ],
            "text/plain": [
              "      Report Date  Route      Time  ... Min Gap Direction Vehicle\n",
              "74122  2020-07-26    501  12:58:00  ...    20.0       W/B  4422.0\n",
              "74123  2020-07-27    301  02:09:00  ...    35.0       E/B  4514.0\n",
              "74124  2020-07-27    306  02:20:00  ...    34.0       E/B  3129.0\n",
              "74125  2020-08-03    504  00:56:00  ...    20.0       E/B  4464.0\n",
              "74126  2020-08-03    501  23:42:00  ...    20.0       W/B  4466.0\n",
              "\n",
              "[5 rows x 10 columns]"
            ]
          },
          "metadata": {
            "tags": []
          },
          "execution_count": 17
        }
      ]
    },
    {
      "cell_type": "code",
      "metadata": {
        "colab": {
          "base_uri": "https://localhost:8080/"
        },
        "id": "gPGAuLZWTx9B",
        "outputId": "85d3c10f-9910-4698-a600-fb4830b9b200"
      },
      "source": [
        "# checking the number of unique directions\n",
        "nuniqueDirections = len(df['Direction'].unique())\n",
        "print(f\"The number of unique directions before cleaning the data = {nuniqueDirections}\")  "
      ],
      "execution_count": 18,
      "outputs": [
        {
          "output_type": "stream",
          "text": [
            "The number of unique directions before cleaning the data = 87\n"
          ],
          "name": "stdout"
        }
      ]
    },
    {
      "cell_type": "markdown",
      "metadata": {
        "id": "FjIn8SgLhVTC"
      },
      "source": [
        "```There are 87 differet directions even though the actual directions are 4: southbound(s), northbound(n), eastbound(e), westbound(w)```\n",
        "\n",
        "reference: https://www.ttc.ca/Routes/Streetcars.jsp"
      ]
    },
    {
      "cell_type": "code",
      "metadata": {
        "colab": {
          "base_uri": "https://localhost:8080/"
        },
        "id": "wJZqw7L7-p4K",
        "outputId": "d5afb752-c64b-4fd3-dea6-2e8770462174"
      },
      "source": [
        "# let's check the routes and directions of the streetcars \n",
        "valid_routes = [501,502,503, 504, 505,506, 507, 508,509,510, 511, 512,301,304,306,310]\n",
        "actual_directions = ['e','w','n','s','x']\n",
        "def filter_directions(df):\n",
        "    '''cleaning the directions by removing '/ and lowerCasing each direction'''\n",
        "    directions = [ item.replace('/','').lower() for item in df['Direction']]\n",
        "    return directions\n",
        "filteredDirections = filter_directions(df)\n",
        "nuniqueDirections = len(set(filteredDirections))\n",
        "print(f\"The number of unique directions after cleaning the data = {nuniqueDirections}\") "
      ],
      "execution_count": 19,
      "outputs": [
        {
          "output_type": "stream",
          "text": [
            "The number of unique directions after cleaning the data = 67\n"
          ],
          "name": "stdout"
        }
      ]
    },
    {
      "cell_type": "markdown",
      "metadata": {
        "id": "iZFbVaxMR2Q8"
      },
      "source": [
        "```Comment:The number of unique directions are still not cleaned completely. We still have 67 unique directions. It needs further cleaning.```"
      ]
    },
    {
      "cell_type": "code",
      "metadata": {
        "colab": {
          "base_uri": "https://localhost:8080/"
        },
        "id": "5fQcSRTiXSi0",
        "outputId": "e0d0e50d-1cde-4d1c-8ac1-2d62064247ab"
      },
      "source": [
        "def filtered_directions_level2(df,filteredDirections):\n",
        "    '''second level of cleaning the directions and return the cleaned directions'''\n",
        "    # after seeing the unique directions, create a dictionary that maps the given direction to an acual direction \n",
        "    #Or if direcftions is not correct, assign 'x' to it \n",
        "    print(df.head())\n",
        "    directions_dics ={ 'eb' :'e','eastbound':'e', 'wb' : 'w','westbound' : 'w','w':'x', 'sb': 's','nb':'n','northbound':'n','southbound':'s',\n",
        "                   'bw':'w','26':'x','relief operator. ga':'x', '506':'x',\n",
        "                   'r':'x', 'ee':'x', '5':'x', '18':'x', 's':'x', '54495':'x',\n",
        "                   'ew':'x', '2':'x',  'w':'x', '15':'x' \n",
        "            }\n",
        "\n",
        "    df['Direction'] = filteredDirections\n",
        "    # replacing the directions with actual directions\n",
        "    df.replace({'Direction':directions_dics},inplace=True)\n",
        "    \n",
        "    cleanDirections = [ key if key in ['w','n','e','s','b'] else 'x' for key in df['Direction']]\n",
        "    #update df['Direction']\n",
        "    df['Direction']  = cleanDirections\n",
        "    #Get indexes where Direction column has value x\n",
        "    index_of_rows = df[df['Direction'] == 'x'].index\n",
        "    # drop the rows with direction 'x':\n",
        "    df.drop(index_of_rows , inplace=True)\n",
        "    # df.reset_index(inplace=True)\n",
        "    return df['Direction']\n",
        "\n",
        "\n",
        "cleanDirections = filtered_directions_level2(df,filteredDirections)\n",
        "#update df['Direction']\n",
        "df['Direction']  = cleanDirections\n",
        "nuniqueDirections = df['Direction'].nunique()\n",
        "print(f\"The number of unique directions after cleaning the data = {nuniqueDirections}\") \n",
        "print(f\"The unique directions after cleaning the data = {set(cleanDirections)}\") \n"
      ],
      "execution_count": 20,
      "outputs": [
        {
          "output_type": "stream",
          "text": [
            "  Report Date  Route      Time       Day  ... Min Delay Min Gap  Direction  Vehicle\n",
            "0  2014-01-02    505  06:31:00  Thursday  ...       4.0     8.0        E/B   4018.0\n",
            "1  2014-01-02    504  12:43:00  Thursday  ...      20.0    22.0        E/B   4128.0\n",
            "2  2014-01-02    501  14:01:00  Thursday  ...      13.0    19.0        W/B   4016.0\n",
            "3  2014-01-02    504  14:22:00  Thursday  ...       7.0    11.0        W/B   4175.0\n",
            "4  2014-01-02    504  16:42:00  Thursday  ...       3.0     6.0        E/B   4080.0\n",
            "\n",
            "[5 rows x 10 columns]\n",
            "The number of unique directions after cleaning the data = 4\n",
            "The unique directions after cleaning the data = {'s', 'e', 'n', 'w'}\n"
          ],
          "name": "stdout"
        }
      ]
    },
    {
      "cell_type": "code",
      "metadata": {
        "colab": {
          "base_uri": "https://localhost:8080/"
        },
        "id": "3ghUtO7e1PgT",
        "outputId": "1c11cf75-97eb-4775-87e1-5eec83ef36d2"
      },
      "source": [
        "# cleaning the streetcars route\n",
        "print(\"The number of unique street cars route before preprocessing:\",len(df['Route'].unique()))\n",
        "print('The number of the actual street cars route:',len(valid_routes))\n",
        "\n",
        "# we need to clean the routes to 16 as per refernce:\n",
        "def validate_routes(df):\n",
        "    routes = []\n",
        "    for route in df['Route']:\n",
        "        if route in valid_routes:\n",
        "            routes.append(route)\n",
        "        else:\n",
        "            routes.append('invalid')\n",
        "    return routes\n",
        "\n",
        "# get the validated routes\n",
        "validated_routes = validate_routes(df)\n",
        "#update df[Route] based on validated routes\n",
        "df['Route'] = validated_routes\n",
        "\n",
        "#drop the rows with invalid routes:\n",
        "#Get indexes where df Route column has value invalid\n",
        "index_of_rows = df[df['Route'] == 'invalid'].index\n",
        "df.drop(index_of_rows , inplace=True)\n",
        "# Delete these row indexes from dataFrame\n",
        "index_of_rows = df[df['Direction'] == 'invalid'].index\n",
        "df.drop(index_of_rows , inplace=True)"
      ],
      "execution_count": 21,
      "outputs": [
        {
          "output_type": "stream",
          "text": [
            "The number of unique street cars route before preprocessing: 119\n",
            "The number of the actual street cars route: 16\n"
          ],
          "name": "stdout"
        }
      ]
    },
    {
      "cell_type": "code",
      "metadata": {
        "colab": {
          "base_uri": "https://localhost:8080/",
          "height": 258
        },
        "id": "b1WQIWjlAo3o",
        "outputId": "37179696-8cb5-41f4-9fa6-32efb0a9686e"
      },
      "source": [
        "# from the report date, we can add three features: year, month of the year, and day of the month\n",
        "# and from Time column we can find the time of the day: morning, afternoon, evening, night\n",
        "\n",
        "def get_time(df):\n",
        "    '''it divides the time of the day into morning,  afternoon,evening, and night'''\n",
        "    times = []\n",
        "    for time in df['Time']:\n",
        "        if 6<=time.hour<=12:\n",
        "            times.append('morning')  # morning time\n",
        "        elif 12<time.hour<=18:\n",
        "            times.append('afternoon') # afternoon time\n",
        "\n",
        "        elif 18<time.hour<=23:\n",
        "            times.append('evening') # evening time\n",
        "\n",
        "        else:\n",
        "            times.append('night') # night time\n",
        "    return times\n",
        "\n",
        "# adding the features to df\n",
        "df['year'] = df['Report Date'].dt.year\n",
        "df['month'] = df['Report Date'].dt.month\n",
        "df['day_date'] = df['Report Date'].dt.day\n",
        "df['time'] = get_time(df)\n",
        "df.tail()"
      ],
      "execution_count": 22,
      "outputs": [
        {
          "output_type": "execute_result",
          "data": {
            "text/html": [
              "<div>\n",
              "<style scoped>\n",
              "    .dataframe tbody tr th:only-of-type {\n",
              "        vertical-align: middle;\n",
              "    }\n",
              "\n",
              "    .dataframe tbody tr th {\n",
              "        vertical-align: top;\n",
              "    }\n",
              "\n",
              "    .dataframe thead th {\n",
              "        text-align: right;\n",
              "    }\n",
              "</style>\n",
              "<table border=\"1\" class=\"dataframe\">\n",
              "  <thead>\n",
              "    <tr style=\"text-align: right;\">\n",
              "      <th></th>\n",
              "      <th>Report Date</th>\n",
              "      <th>Route</th>\n",
              "      <th>Time</th>\n",
              "      <th>Day</th>\n",
              "      <th>Location</th>\n",
              "      <th>Incident</th>\n",
              "      <th>Min Delay</th>\n",
              "      <th>Min Gap</th>\n",
              "      <th>Direction</th>\n",
              "      <th>Vehicle</th>\n",
              "      <th>year</th>\n",
              "      <th>month</th>\n",
              "      <th>day_date</th>\n",
              "      <th>time</th>\n",
              "    </tr>\n",
              "  </thead>\n",
              "  <tbody>\n",
              "    <tr>\n",
              "      <th>74122</th>\n",
              "      <td>2020-07-26</td>\n",
              "      <td>501</td>\n",
              "      <td>12:58:00</td>\n",
              "      <td>Sunday</td>\n",
              "      <td>QUEEN AND DUFFERIN</td>\n",
              "      <td>Mechanical</td>\n",
              "      <td>10.0</td>\n",
              "      <td>20.0</td>\n",
              "      <td>w</td>\n",
              "      <td>4422.0</td>\n",
              "      <td>2020</td>\n",
              "      <td>7</td>\n",
              "      <td>26</td>\n",
              "      <td>morning</td>\n",
              "    </tr>\n",
              "    <tr>\n",
              "      <th>74123</th>\n",
              "      <td>2020-07-27</td>\n",
              "      <td>301</td>\n",
              "      <td>02:09:00</td>\n",
              "      <td>Monday</td>\n",
              "      <td>QUEEN AND YORK</td>\n",
              "      <td>Mechanical</td>\n",
              "      <td>25.0</td>\n",
              "      <td>35.0</td>\n",
              "      <td>e</td>\n",
              "      <td>4514.0</td>\n",
              "      <td>2020</td>\n",
              "      <td>7</td>\n",
              "      <td>27</td>\n",
              "      <td>night</td>\n",
              "    </tr>\n",
              "    <tr>\n",
              "      <th>74124</th>\n",
              "      <td>2020-07-27</td>\n",
              "      <td>306</td>\n",
              "      <td>02:20:00</td>\n",
              "      <td>Monday</td>\n",
              "      <td>Dundas West Station</td>\n",
              "      <td>Emergency Services</td>\n",
              "      <td>19.0</td>\n",
              "      <td>34.0</td>\n",
              "      <td>e</td>\n",
              "      <td>3129.0</td>\n",
              "      <td>2020</td>\n",
              "      <td>7</td>\n",
              "      <td>27</td>\n",
              "      <td>night</td>\n",
              "    </tr>\n",
              "    <tr>\n",
              "      <th>74125</th>\n",
              "      <td>2020-08-03</td>\n",
              "      <td>504</td>\n",
              "      <td>00:56:00</td>\n",
              "      <td>Monday</td>\n",
              "      <td>Dufferin Loop</td>\n",
              "      <td>Mechanical</td>\n",
              "      <td>10.0</td>\n",
              "      <td>20.0</td>\n",
              "      <td>e</td>\n",
              "      <td>4464.0</td>\n",
              "      <td>2020</td>\n",
              "      <td>8</td>\n",
              "      <td>3</td>\n",
              "      <td>night</td>\n",
              "    </tr>\n",
              "    <tr>\n",
              "      <th>74126</th>\n",
              "      <td>2020-08-03</td>\n",
              "      <td>501</td>\n",
              "      <td>23:42:00</td>\n",
              "      <td>Monday</td>\n",
              "      <td>Queen and Connaught (Russell Trailer Track)</td>\n",
              "      <td>Investigation</td>\n",
              "      <td>10.0</td>\n",
              "      <td>20.0</td>\n",
              "      <td>w</td>\n",
              "      <td>4466.0</td>\n",
              "      <td>2020</td>\n",
              "      <td>8</td>\n",
              "      <td>3</td>\n",
              "      <td>evening</td>\n",
              "    </tr>\n",
              "  </tbody>\n",
              "</table>\n",
              "</div>"
            ],
            "text/plain": [
              "      Report Date Route      Time     Day  ...  year month  day_date     time\n",
              "74122  2020-07-26   501  12:58:00  Sunday  ...  2020     7        26  morning\n",
              "74123  2020-07-27   301  02:09:00  Monday  ...  2020     7        27    night\n",
              "74124  2020-07-27   306  02:20:00  Monday  ...  2020     7        27    night\n",
              "74125  2020-08-03   504  00:56:00  Monday  ...  2020     8         3    night\n",
              "74126  2020-08-03   501  23:42:00  Monday  ...  2020     8         3  evening\n",
              "\n",
              "[5 rows x 14 columns]"
            ]
          },
          "metadata": {
            "tags": []
          },
          "execution_count": 22
        }
      ]
    },
    {
      "cell_type": "code",
      "metadata": {
        "colab": {
          "base_uri": "https://localhost:8080/"
        },
        "id": "TWFBF0oa7rva",
        "outputId": "5cef9306-d0eb-4138-8b16-764bae90a4f3"
      },
      "source": [
        "#Cleaning Locations\n",
        "# it needs a lot of cleaning\n",
        "uniqueLocationBeforeCleaning = len(df['Location'].unique())\n",
        "lowerCaseLocations = [loc.lower() for loc in df['Location']]\n",
        "df['Location'] = lowerCaseLocations\n",
        "uniqueLowerCaseLocations = len(set(lowerCaseLocations))\n",
        "print(f\"unique locations before lowerCasing = {uniqueLocationBeforeCleaning}\\n unique locations after lowerCasing Locations= {uniqueLowerCaseLocations}\")\n"
      ],
      "execution_count": 23,
      "outputs": [
        {
          "output_type": "stream",
          "text": [
            "unique locations before lowerCasing = 15804\n",
            " unique locations after lowerCasing Locations= 13306\n"
          ],
          "name": "stdout"
        }
      ]
    },
    {
      "cell_type": "code",
      "metadata": {
        "colab": {
          "base_uri": "https://localhost:8080/",
          "height": 237
        },
        "id": "q61dKc3OznaN",
        "outputId": "805ba0e9-7658-450e-84b3-2e16729e8c8e"
      },
      "source": [
        "df.describe().T"
      ],
      "execution_count": 24,
      "outputs": [
        {
          "output_type": "execute_result",
          "data": {
            "text/html": [
              "<div>\n",
              "<style scoped>\n",
              "    .dataframe tbody tr th:only-of-type {\n",
              "        vertical-align: middle;\n",
              "    }\n",
              "\n",
              "    .dataframe tbody tr th {\n",
              "        vertical-align: top;\n",
              "    }\n",
              "\n",
              "    .dataframe thead th {\n",
              "        text-align: right;\n",
              "    }\n",
              "</style>\n",
              "<table border=\"1\" class=\"dataframe\">\n",
              "  <thead>\n",
              "    <tr style=\"text-align: right;\">\n",
              "      <th></th>\n",
              "      <th>count</th>\n",
              "      <th>mean</th>\n",
              "      <th>std</th>\n",
              "      <th>min</th>\n",
              "      <th>25%</th>\n",
              "      <th>50%</th>\n",
              "      <th>75%</th>\n",
              "      <th>max</th>\n",
              "    </tr>\n",
              "  </thead>\n",
              "  <tbody>\n",
              "    <tr>\n",
              "      <th>Min Delay</th>\n",
              "      <td>71866.0</td>\n",
              "      <td>12.639524</td>\n",
              "      <td>29.969065</td>\n",
              "      <td>0.0</td>\n",
              "      <td>5.0</td>\n",
              "      <td>6.0</td>\n",
              "      <td>11.0</td>\n",
              "      <td>1400.0</td>\n",
              "    </tr>\n",
              "    <tr>\n",
              "      <th>Min Gap</th>\n",
              "      <td>71866.0</td>\n",
              "      <td>18.360950</td>\n",
              "      <td>33.817507</td>\n",
              "      <td>0.0</td>\n",
              "      <td>9.0</td>\n",
              "      <td>12.0</td>\n",
              "      <td>20.0</td>\n",
              "      <td>4216.0</td>\n",
              "    </tr>\n",
              "    <tr>\n",
              "      <th>Vehicle</th>\n",
              "      <td>71866.0</td>\n",
              "      <td>4398.603957</td>\n",
              "      <td>1569.519303</td>\n",
              "      <td>0.0</td>\n",
              "      <td>4078.0</td>\n",
              "      <td>4172.0</td>\n",
              "      <td>4416.0</td>\n",
              "      <td>163242.0</td>\n",
              "    </tr>\n",
              "    <tr>\n",
              "      <th>year</th>\n",
              "      <td>71866.0</td>\n",
              "      <td>2016.682840</td>\n",
              "      <td>1.759933</td>\n",
              "      <td>2014.0</td>\n",
              "      <td>2015.0</td>\n",
              "      <td>2017.0</td>\n",
              "      <td>2018.0</td>\n",
              "      <td>2020.0</td>\n",
              "    </tr>\n",
              "    <tr>\n",
              "      <th>month</th>\n",
              "      <td>71866.0</td>\n",
              "      <td>6.123758</td>\n",
              "      <td>3.447725</td>\n",
              "      <td>1.0</td>\n",
              "      <td>3.0</td>\n",
              "      <td>6.0</td>\n",
              "      <td>9.0</td>\n",
              "      <td>12.0</td>\n",
              "    </tr>\n",
              "    <tr>\n",
              "      <th>day_date</th>\n",
              "      <td>71866.0</td>\n",
              "      <td>15.734826</td>\n",
              "      <td>8.771644</td>\n",
              "      <td>1.0</td>\n",
              "      <td>8.0</td>\n",
              "      <td>16.0</td>\n",
              "      <td>23.0</td>\n",
              "      <td>31.0</td>\n",
              "    </tr>\n",
              "  </tbody>\n",
              "</table>\n",
              "</div>"
            ],
            "text/plain": [
              "             count         mean          std  ...     50%     75%       max\n",
              "Min Delay  71866.0    12.639524    29.969065  ...     6.0    11.0    1400.0\n",
              "Min Gap    71866.0    18.360950    33.817507  ...    12.0    20.0    4216.0\n",
              "Vehicle    71866.0  4398.603957  1569.519303  ...  4172.0  4416.0  163242.0\n",
              "year       71866.0  2016.682840     1.759933  ...  2017.0  2018.0    2020.0\n",
              "month      71866.0     6.123758     3.447725  ...     6.0     9.0      12.0\n",
              "day_date   71866.0    15.734826     8.771644  ...    16.0    23.0      31.0\n",
              "\n",
              "[6 rows x 8 columns]"
            ]
          },
          "metadata": {
            "tags": []
          },
          "execution_count": 24
        }
      ]
    },
    {
      "cell_type": "code",
      "metadata": {
        "colab": {
          "base_uri": "https://localhost:8080/",
          "height": 206
        },
        "id": "zjz9sOlP2giW",
        "outputId": "e68311e3-9744-4763-da20-fe0b5b004e5d"
      },
      "source": [
        "df.head(5)"
      ],
      "execution_count": 25,
      "outputs": [
        {
          "output_type": "execute_result",
          "data": {
            "text/html": [
              "<div>\n",
              "<style scoped>\n",
              "    .dataframe tbody tr th:only-of-type {\n",
              "        vertical-align: middle;\n",
              "    }\n",
              "\n",
              "    .dataframe tbody tr th {\n",
              "        vertical-align: top;\n",
              "    }\n",
              "\n",
              "    .dataframe thead th {\n",
              "        text-align: right;\n",
              "    }\n",
              "</style>\n",
              "<table border=\"1\" class=\"dataframe\">\n",
              "  <thead>\n",
              "    <tr style=\"text-align: right;\">\n",
              "      <th></th>\n",
              "      <th>Report Date</th>\n",
              "      <th>Route</th>\n",
              "      <th>Time</th>\n",
              "      <th>Day</th>\n",
              "      <th>Location</th>\n",
              "      <th>Incident</th>\n",
              "      <th>Min Delay</th>\n",
              "      <th>Min Gap</th>\n",
              "      <th>Direction</th>\n",
              "      <th>Vehicle</th>\n",
              "      <th>year</th>\n",
              "      <th>month</th>\n",
              "      <th>day_date</th>\n",
              "      <th>time</th>\n",
              "    </tr>\n",
              "  </thead>\n",
              "  <tbody>\n",
              "    <tr>\n",
              "      <th>0</th>\n",
              "      <td>2014-01-02</td>\n",
              "      <td>505</td>\n",
              "      <td>06:31:00</td>\n",
              "      <td>Thursday</td>\n",
              "      <td>dundas and roncesvalles</td>\n",
              "      <td>Late Leaving Garage</td>\n",
              "      <td>4.0</td>\n",
              "      <td>8.0</td>\n",
              "      <td>e</td>\n",
              "      <td>4018.0</td>\n",
              "      <td>2014</td>\n",
              "      <td>1</td>\n",
              "      <td>2</td>\n",
              "      <td>morning</td>\n",
              "    </tr>\n",
              "    <tr>\n",
              "      <th>1</th>\n",
              "      <td>2014-01-02</td>\n",
              "      <td>504</td>\n",
              "      <td>12:43:00</td>\n",
              "      <td>Thursday</td>\n",
              "      <td>king and shaw</td>\n",
              "      <td>Utilized Off Route</td>\n",
              "      <td>20.0</td>\n",
              "      <td>22.0</td>\n",
              "      <td>e</td>\n",
              "      <td>4128.0</td>\n",
              "      <td>2014</td>\n",
              "      <td>1</td>\n",
              "      <td>2</td>\n",
              "      <td>morning</td>\n",
              "    </tr>\n",
              "    <tr>\n",
              "      <th>2</th>\n",
              "      <td>2014-01-02</td>\n",
              "      <td>501</td>\n",
              "      <td>14:01:00</td>\n",
              "      <td>Thursday</td>\n",
              "      <td>kingston road and bingham</td>\n",
              "      <td>Held By</td>\n",
              "      <td>13.0</td>\n",
              "      <td>19.0</td>\n",
              "      <td>w</td>\n",
              "      <td>4016.0</td>\n",
              "      <td>2014</td>\n",
              "      <td>1</td>\n",
              "      <td>2</td>\n",
              "      <td>afternoon</td>\n",
              "    </tr>\n",
              "    <tr>\n",
              "      <th>3</th>\n",
              "      <td>2014-01-02</td>\n",
              "      <td>504</td>\n",
              "      <td>14:22:00</td>\n",
              "      <td>Thursday</td>\n",
              "      <td>king st. and roncesvalles ave.</td>\n",
              "      <td>Investigation</td>\n",
              "      <td>7.0</td>\n",
              "      <td>11.0</td>\n",
              "      <td>w</td>\n",
              "      <td>4175.0</td>\n",
              "      <td>2014</td>\n",
              "      <td>1</td>\n",
              "      <td>2</td>\n",
              "      <td>afternoon</td>\n",
              "    </tr>\n",
              "    <tr>\n",
              "      <th>4</th>\n",
              "      <td>2014-01-02</td>\n",
              "      <td>504</td>\n",
              "      <td>16:42:00</td>\n",
              "      <td>Thursday</td>\n",
              "      <td>king and bathurst</td>\n",
              "      <td>Utilized Off Route</td>\n",
              "      <td>3.0</td>\n",
              "      <td>6.0</td>\n",
              "      <td>e</td>\n",
              "      <td>4080.0</td>\n",
              "      <td>2014</td>\n",
              "      <td>1</td>\n",
              "      <td>2</td>\n",
              "      <td>afternoon</td>\n",
              "    </tr>\n",
              "  </tbody>\n",
              "</table>\n",
              "</div>"
            ],
            "text/plain": [
              "  Report Date Route      Time       Day  ...  year month  day_date       time\n",
              "0  2014-01-02   505  06:31:00  Thursday  ...  2014     1         2    morning\n",
              "1  2014-01-02   504  12:43:00  Thursday  ...  2014     1         2    morning\n",
              "2  2014-01-02   501  14:01:00  Thursday  ...  2014     1         2  afternoon\n",
              "3  2014-01-02   504  14:22:00  Thursday  ...  2014     1         2  afternoon\n",
              "4  2014-01-02   504  16:42:00  Thursday  ...  2014     1         2  afternoon\n",
              "\n",
              "[5 rows x 14 columns]"
            ]
          },
          "metadata": {
            "tags": []
          },
          "execution_count": 25
        }
      ]
    },
    {
      "cell_type": "code",
      "metadata": {
        "colab": {
          "base_uri": "https://localhost:8080/"
        },
        "id": "7xa8CjGEohKL",
        "outputId": "43098fb2-c83d-4ceb-f731-07a15678410e"
      },
      "source": [
        "df['Location'] = df['Location'].str.lower()\n",
        "print(\"Unique Location values after cleaning:\",df['Location'].nunique())"
      ],
      "execution_count": 26,
      "outputs": [
        {
          "output_type": "stream",
          "text": [
            "Unique Location values after cleaning: 13306\n"
          ],
          "name": "stdout"
        }
      ]
    },
    {
      "cell_type": "code",
      "metadata": {
        "colab": {
          "base_uri": "https://localhost:8080/"
        },
        "id": "LuftroDCh1B2",
        "outputId": "83299f2f-10ed-428a-c226-96f3914cbd24"
      },
      "source": [
        "df['Incident'].unique()"
      ],
      "execution_count": 27,
      "outputs": [
        {
          "output_type": "execute_result",
          "data": {
            "text/plain": [
              "array(['Late Leaving Garage', 'Utilized Off Route', 'Held By',\n",
              "       'Investigation', 'Mechanical', 'Emergency Services', 'Diversion',\n",
              "       'General Delay', 'Overhead - Pantograph'], dtype=object)"
            ]
          },
          "metadata": {
            "tags": []
          },
          "execution_count": 27
        }
      ]
    },
    {
      "cell_type": "code",
      "metadata": {
        "colab": {
          "base_uri": "https://localhost:8080/",
          "height": 279
        },
        "id": "Xfatdn9Pjmec",
        "outputId": "a3f13c24-2b7f-49ba-a073-d29c947d4bf5"
      },
      "source": [
        "#Visualizations of our data\n",
        "#Visualize the number of delays based on each day\n",
        "def visualize_data(df, xVar,yVar='number of delays'):\n",
        "    delaysOnDays = Counter(df[xVar])\n",
        "    plt.bar(delaysOnDays.keys(), delaysOnDays.values(), color='g')\n",
        "    plt.xlabel(xVar)\n",
        "    plt.ylabel(yVar)\n",
        "    plt.show()\n",
        "\n",
        "#visualize data vs number of delays w.r.t days\n",
        "visualize_data(df,'Day')\n"
      ],
      "execution_count": 28,
      "outputs": [
        {
          "output_type": "display_data",
          "data": {
            "image/png": "[encoded data removed]",
            "text/plain": [
              "<Figure size 432x288 with 1 Axes>"
            ]
          },
          "metadata": {
            "tags": [],
            "needs_background": "light"
          }
        }
      ]
    },
    {
      "cell_type": "markdown",
      "metadata": {
        "id": "fS55nS54n88i"
      },
      "source": [
        "```Comment:The numbers of delays get ats its peak on Thursdays.Then, it starts to decrease slowly until Sunday. On Sundays, there is a minimum number of delays.```\n",
        "\n"
      ]
    },
    {
      "cell_type": "code",
      "metadata": {
        "colab": {
          "base_uri": "https://localhost:8080/",
          "height": 279
        },
        "id": "YQJRJp5WqaMy",
        "outputId": "f245b3e8-8dca-4d98-eb72-9017cadb6dd2"
      },
      "source": [
        "#visualize number of delays w.r.t  directions\n",
        "visualize_data(df,'Direction')"
      ],
      "execution_count": 29,
      "outputs": [
        {
          "output_type": "display_data",
          "data": {
            "image/png": "[encoded data removed]",
            "text/plain": [
              "<Figure size 432x288 with 1 Axes>"
            ]
          },
          "metadata": {
            "tags": [],
            "needs_background": "light"
          }
        }
      ]
    },
    {
      "cell_type": "markdown",
      "metadata": {
        "id": "SDQtdKJ0qsee"
      },
      "source": [
        "\n",
        "\n",
        "```\n",
        "#Comment: More number of delays occur in eastbound and westbound direction of the routes.\n",
        "```\n",
        "\n"
      ]
    },
    {
      "cell_type": "code",
      "metadata": {
        "colab": {
          "base_uri": "https://localhost:8080/",
          "height": 279
        },
        "id": "H1t36Ww1pcIl",
        "outputId": "b7488f67-6181-4721-889b-c31ec90f6572"
      },
      "source": [
        "#visualize number of delays with respect to Route\n",
        "visualize_data(df,'Route')"
      ],
      "execution_count": 30,
      "outputs": [
        {
          "output_type": "display_data",
          "data": {
            "image/png": "[encoded data removed]",
            "text/plain": [
              "<Figure size 432x288 with 1 Axes>"
            ]
          },
          "metadata": {
            "tags": [],
            "needs_background": "light"
          }
        }
      ]
    },
    {
      "cell_type": "markdown",
      "metadata": {
        "id": "CC1dTtCUqCnJ"
      },
      "source": [
        "\n",
        "\n",
        "```Commonet:\n",
        "The routes that starts with 500 have more number of delays than the routes that start with 300\n",
        "```\n",
        "\n"
      ]
    },
    {
      "cell_type": "code",
      "metadata": {
        "colab": {
          "base_uri": "https://localhost:8080/",
          "height": 279
        },
        "id": "2LTv8aBcrQO5",
        "outputId": "b7a77b37-2a95-4c95-dda2-ca883ee8d5f5"
      },
      "source": [
        "#visualize number of delays with respect to time\n",
        "visualize_data(df,'time')"
      ],
      "execution_count": 31,
      "outputs": [
        {
          "output_type": "display_data",
          "data": {
            "image/png": "[encoded data removed]",
            "text/plain": [
              "<Figure size 432x288 with 1 Axes>"
            ]
          },
          "metadata": {
            "tags": [],
            "needs_background": "light"
          }
        }
      ]
    },
    {
      "cell_type": "markdown",
      "metadata": {
        "id": "XPEYMk-isMFe"
      },
      "source": [
        "\n",
        "\n",
        "```\n",
        " The number of delays peak during morning time of the day. \n",
        "```\n",
        "\n"
      ]
    },
    {
      "cell_type": "code",
      "metadata": {
        "colab": {
          "base_uri": "https://localhost:8080/",
          "height": 279
        },
        "id": "_9ec5DPKrhte",
        "outputId": "d0ebaa9d-7903-4bbb-937f-94ef9b3c2a9a"
      },
      "source": [
        "#visualize number of delays with respect to year\n",
        "visualize_data(df,'year')"
      ],
      "execution_count": 32,
      "outputs": [
        {
          "output_type": "display_data",
          "data": {
            "image/png": "[encoded data removed]",
            "text/plain": [
              "<Figure size 432x288 with 1 Axes>"
            ]
          },
          "metadata": {
            "tags": [],
            "needs_background": "light"
          }
        }
      ]
    },
    {
      "cell_type": "code",
      "metadata": {
        "colab": {
          "base_uri": "https://localhost:8080/",
          "height": 279
        },
        "id": "zS90gJBDr_46",
        "outputId": "0564a443-69f8-4ff4-f12f-8e30d9136bbd"
      },
      "source": [
        "#visualize number of delays with respect to month\n",
        "visualize_data(df,'month')"
      ],
      "execution_count": 33,
      "outputs": [
        {
          "output_type": "display_data",
          "data": {
            "image/png": "[encoded data removed]",
            "text/plain": [
              "<Figure size 432x288 with 1 Axes>"
            ]
          },
          "metadata": {
            "tags": [],
            "needs_background": "light"
          }
        }
      ]
    },
    {
      "cell_type": "code",
      "metadata": {
        "colab": {
          "base_uri": "https://localhost:8080/",
          "height": 497
        },
        "id": "TL8MKLYhswED",
        "outputId": "c22ebd23-4184-41ac-e0b7-d6fa1c2aa93a"
      },
      "source": [
        "#visualize number of delays with respect to Incidents\n",
        "plt.figure(figsize=(16,8),facecolor='gray')\n",
        "visualize_data(df,'Incident')"
      ],
      "execution_count": 34,
      "outputs": [
        {
          "output_type": "display_data",
          "data": {
            "image/png": "[encoded data removed]",
            "text/plain": [
              "<Figure size 1152x576 with 1 Axes>"
            ]
          },
          "metadata": {
            "tags": []
          }
        }
      ]
    },
    {
      "cell_type": "markdown",
      "metadata": {
        "id": "TSM57GeEuI0m"
      },
      "source": [
        "```# Comment:The mechanical issue is the major cause that  leads to many number of delays of toronto streetcars.```"
      ]
    },
    {
      "cell_type": "code",
      "metadata": {
        "colab": {
          "base_uri": "https://localhost:8080/",
          "height": 424
        },
        "id": "q03ETDRKls_V",
        "outputId": "e5354f5a-5c83-42d0-f8c6-41cd8e36fad1"
      },
      "source": [
        "# for every route/ for every direction[e-w or s-n/ for every year/ for every month/ for every day/ for every hour\n",
        "\n",
        "south_north_routes = [510,511,512,310]\n",
        "south_north_direction =['s','n']\n",
        "east_west_routes = [501,503,504,505,506,508,509,301,304,306]\n",
        "east_west_direction = ['e','w']\n",
        "\n",
        "years=[2014,2015,2016,2017,2018,2019,2020]\n",
        "hours= [i for i in range(1, 25, 1)]\n",
        "numberOfDaysInMonth = {'1':31,'2':28,'3':31,'4':30,'5':31,'6':30,\n",
        "                        '7':31,'8':31,'9': 30,'10': 31,'11':30,'12':31}\n",
        "\n",
        " \n",
        "def getAugmentedData(route, direction):\n",
        "    \"\"\" A function that create all the possible streetcar delay data from 2014 to 2020.\n",
        "    Assuming the streetcars give public service full day, or 24 hours a day.\n",
        "    \"\"\"\n",
        "    data =[]\n",
        "    for r in route: \n",
        "           for d in direction:\n",
        "            for y in years:\n",
        "                months= [i for i in range(1, 13)]\n",
        "                if (y==2020):\n",
        "                   months= [i for i in range(1, 8)]   # df2020 excel sheet has only 8 months of data records\n",
        "                for m in months:\n",
        "                    if (m == 2) and (y == 2016 or y == 2020): # consider leap years cases\n",
        "                        days  = [i for i in range(1,numberOfDaysInMonth[str(m)]+2)]\n",
        "                    else:\n",
        "                        days = [ i for i in range(1,numberOfDaysInMonth[str(m)]+1) ]\n",
        "                    for day in days:\n",
        "                        dayName = datetime.date(y, m, day).strftime(\"%A\")\n",
        "                        for hour in hours:\n",
        "                            tempDict={\"route\":r,\"direction\": d,\"year\":y,\"month\":m,\"date\":day,'time': hour, \"day\": dayName }\n",
        "\n",
        "                            data.append(tempDict)\n",
        "    return data\n",
        "\n",
        "\n",
        "south_north_data = pd.DataFrame(getAugmentedData(south_north_routes,south_north_direction))\n",
        "\n",
        "east_west_data =  pd.DataFrame(getAugmentedData(east_west_routes,east_west_direction))\n",
        "dataList = [south_north_data,east_west_data]\n",
        "augmented_df = pd.concat(dataList,axis=0,ignore_index=True)\n",
        "augmented_df"
      ],
      "execution_count": 35,
      "outputs": [
        {
          "output_type": "execute_result",
          "data": {
            "text/html": [
              "<div>\n",
              "<style scoped>\n",
              "    .dataframe tbody tr th:only-of-type {\n",
              "        vertical-align: middle;\n",
              "    }\n",
              "\n",
              "    .dataframe tbody tr th {\n",
              "        vertical-align: top;\n",
              "    }\n",
              "\n",
              "    .dataframe thead th {\n",
              "        text-align: right;\n",
              "    }\n",
              "</style>\n",
              "<table border=\"1\" class=\"dataframe\">\n",
              "  <thead>\n",
              "    <tr style=\"text-align: right;\">\n",
              "      <th></th>\n",
              "      <th>route</th>\n",
              "      <th>direction</th>\n",
              "      <th>year</th>\n",
              "      <th>month</th>\n",
              "      <th>date</th>\n",
              "      <th>time</th>\n",
              "      <th>day</th>\n",
              "    </tr>\n",
              "  </thead>\n",
              "  <tbody>\n",
              "    <tr>\n",
              "      <th>0</th>\n",
              "      <td>510</td>\n",
              "      <td>s</td>\n",
              "      <td>2014</td>\n",
              "      <td>1</td>\n",
              "      <td>1</td>\n",
              "      <td>1</td>\n",
              "      <td>Wednesday</td>\n",
              "    </tr>\n",
              "    <tr>\n",
              "      <th>1</th>\n",
              "      <td>510</td>\n",
              "      <td>s</td>\n",
              "      <td>2014</td>\n",
              "      <td>1</td>\n",
              "      <td>1</td>\n",
              "      <td>2</td>\n",
              "      <td>Wednesday</td>\n",
              "    </tr>\n",
              "    <tr>\n",
              "      <th>2</th>\n",
              "      <td>510</td>\n",
              "      <td>s</td>\n",
              "      <td>2014</td>\n",
              "      <td>1</td>\n",
              "      <td>1</td>\n",
              "      <td>3</td>\n",
              "      <td>Wednesday</td>\n",
              "    </tr>\n",
              "    <tr>\n",
              "      <th>3</th>\n",
              "      <td>510</td>\n",
              "      <td>s</td>\n",
              "      <td>2014</td>\n",
              "      <td>1</td>\n",
              "      <td>1</td>\n",
              "      <td>4</td>\n",
              "      <td>Wednesday</td>\n",
              "    </tr>\n",
              "    <tr>\n",
              "      <th>4</th>\n",
              "      <td>510</td>\n",
              "      <td>s</td>\n",
              "      <td>2014</td>\n",
              "      <td>1</td>\n",
              "      <td>1</td>\n",
              "      <td>5</td>\n",
              "      <td>Wednesday</td>\n",
              "    </tr>\n",
              "    <tr>\n",
              "      <th>...</th>\n",
              "      <td>...</td>\n",
              "      <td>...</td>\n",
              "      <td>...</td>\n",
              "      <td>...</td>\n",
              "      <td>...</td>\n",
              "      <td>...</td>\n",
              "      <td>...</td>\n",
              "    </tr>\n",
              "    <tr>\n",
              "      <th>1615483</th>\n",
              "      <td>306</td>\n",
              "      <td>w</td>\n",
              "      <td>2020</td>\n",
              "      <td>7</td>\n",
              "      <td>31</td>\n",
              "      <td>20</td>\n",
              "      <td>Friday</td>\n",
              "    </tr>\n",
              "    <tr>\n",
              "      <th>1615484</th>\n",
              "      <td>306</td>\n",
              "      <td>w</td>\n",
              "      <td>2020</td>\n",
              "      <td>7</td>\n",
              "      <td>31</td>\n",
              "      <td>21</td>\n",
              "      <td>Friday</td>\n",
              "    </tr>\n",
              "    <tr>\n",
              "      <th>1615485</th>\n",
              "      <td>306</td>\n",
              "      <td>w</td>\n",
              "      <td>2020</td>\n",
              "      <td>7</td>\n",
              "      <td>31</td>\n",
              "      <td>22</td>\n",
              "      <td>Friday</td>\n",
              "    </tr>\n",
              "    <tr>\n",
              "      <th>1615486</th>\n",
              "      <td>306</td>\n",
              "      <td>w</td>\n",
              "      <td>2020</td>\n",
              "      <td>7</td>\n",
              "      <td>31</td>\n",
              "      <td>23</td>\n",
              "      <td>Friday</td>\n",
              "    </tr>\n",
              "    <tr>\n",
              "      <th>1615487</th>\n",
              "      <td>306</td>\n",
              "      <td>w</td>\n",
              "      <td>2020</td>\n",
              "      <td>7</td>\n",
              "      <td>31</td>\n",
              "      <td>24</td>\n",
              "      <td>Friday</td>\n",
              "    </tr>\n",
              "  </tbody>\n",
              "</table>\n",
              "<p>1615488 rows × 7 columns</p>\n",
              "</div>"
            ],
            "text/plain": [
              "         route direction  year  month  date  time        day\n",
              "0          510         s  2014      1     1     1  Wednesday\n",
              "1          510         s  2014      1     1     2  Wednesday\n",
              "2          510         s  2014      1     1     3  Wednesday\n",
              "3          510         s  2014      1     1     4  Wednesday\n",
              "4          510         s  2014      1     1     5  Wednesday\n",
              "...        ...       ...   ...    ...   ...   ...        ...\n",
              "1615483    306         w  2020      7    31    20     Friday\n",
              "1615484    306         w  2020      7    31    21     Friday\n",
              "1615485    306         w  2020      7    31    22     Friday\n",
              "1615486    306         w  2020      7    31    23     Friday\n",
              "1615487    306         w  2020      7    31    24     Friday\n",
              "\n",
              "[1615488 rows x 7 columns]"
            ]
          },
          "metadata": {
            "tags": []
          },
          "execution_count": 35
        }
      ]
    },
    {
      "cell_type": "code",
      "metadata": {
        "colab": {
          "base_uri": "https://localhost:8080/",
          "height": 206
        },
        "id": "n4cO7RumsSd2",
        "outputId": "074cc702-14bd-4d5b-c65c-df774f9a69e5"
      },
      "source": [
        "df.head()"
      ],
      "execution_count": 36,
      "outputs": [
        {
          "output_type": "execute_result",
          "data": {
            "text/html": [
              "<div>\n",
              "<style scoped>\n",
              "    .dataframe tbody tr th:only-of-type {\n",
              "        vertical-align: middle;\n",
              "    }\n",
              "\n",
              "    .dataframe tbody tr th {\n",
              "        vertical-align: top;\n",
              "    }\n",
              "\n",
              "    .dataframe thead th {\n",
              "        text-align: right;\n",
              "    }\n",
              "</style>\n",
              "<table border=\"1\" class=\"dataframe\">\n",
              "  <thead>\n",
              "    <tr style=\"text-align: right;\">\n",
              "      <th></th>\n",
              "      <th>Report Date</th>\n",
              "      <th>Route</th>\n",
              "      <th>Time</th>\n",
              "      <th>Day</th>\n",
              "      <th>Location</th>\n",
              "      <th>Incident</th>\n",
              "      <th>Min Delay</th>\n",
              "      <th>Min Gap</th>\n",
              "      <th>Direction</th>\n",
              "      <th>Vehicle</th>\n",
              "      <th>year</th>\n",
              "      <th>month</th>\n",
              "      <th>day_date</th>\n",
              "      <th>time</th>\n",
              "    </tr>\n",
              "  </thead>\n",
              "  <tbody>\n",
              "    <tr>\n",
              "      <th>0</th>\n",
              "      <td>2014-01-02</td>\n",
              "      <td>505</td>\n",
              "      <td>06:31:00</td>\n",
              "      <td>Thursday</td>\n",
              "      <td>dundas and roncesvalles</td>\n",
              "      <td>Late Leaving Garage</td>\n",
              "      <td>4.0</td>\n",
              "      <td>8.0</td>\n",
              "      <td>e</td>\n",
              "      <td>4018.0</td>\n",
              "      <td>2014</td>\n",
              "      <td>1</td>\n",
              "      <td>2</td>\n",
              "      <td>morning</td>\n",
              "    </tr>\n",
              "    <tr>\n",
              "      <th>1</th>\n",
              "      <td>2014-01-02</td>\n",
              "      <td>504</td>\n",
              "      <td>12:43:00</td>\n",
              "      <td>Thursday</td>\n",
              "      <td>king and shaw</td>\n",
              "      <td>Utilized Off Route</td>\n",
              "      <td>20.0</td>\n",
              "      <td>22.0</td>\n",
              "      <td>e</td>\n",
              "      <td>4128.0</td>\n",
              "      <td>2014</td>\n",
              "      <td>1</td>\n",
              "      <td>2</td>\n",
              "      <td>morning</td>\n",
              "    </tr>\n",
              "    <tr>\n",
              "      <th>2</th>\n",
              "      <td>2014-01-02</td>\n",
              "      <td>501</td>\n",
              "      <td>14:01:00</td>\n",
              "      <td>Thursday</td>\n",
              "      <td>kingston road and bingham</td>\n",
              "      <td>Held By</td>\n",
              "      <td>13.0</td>\n",
              "      <td>19.0</td>\n",
              "      <td>w</td>\n",
              "      <td>4016.0</td>\n",
              "      <td>2014</td>\n",
              "      <td>1</td>\n",
              "      <td>2</td>\n",
              "      <td>afternoon</td>\n",
              "    </tr>\n",
              "    <tr>\n",
              "      <th>3</th>\n",
              "      <td>2014-01-02</td>\n",
              "      <td>504</td>\n",
              "      <td>14:22:00</td>\n",
              "      <td>Thursday</td>\n",
              "      <td>king st. and roncesvalles ave.</td>\n",
              "      <td>Investigation</td>\n",
              "      <td>7.0</td>\n",
              "      <td>11.0</td>\n",
              "      <td>w</td>\n",
              "      <td>4175.0</td>\n",
              "      <td>2014</td>\n",
              "      <td>1</td>\n",
              "      <td>2</td>\n",
              "      <td>afternoon</td>\n",
              "    </tr>\n",
              "    <tr>\n",
              "      <th>4</th>\n",
              "      <td>2014-01-02</td>\n",
              "      <td>504</td>\n",
              "      <td>16:42:00</td>\n",
              "      <td>Thursday</td>\n",
              "      <td>king and bathurst</td>\n",
              "      <td>Utilized Off Route</td>\n",
              "      <td>3.0</td>\n",
              "      <td>6.0</td>\n",
              "      <td>e</td>\n",
              "      <td>4080.0</td>\n",
              "      <td>2014</td>\n",
              "      <td>1</td>\n",
              "      <td>2</td>\n",
              "      <td>afternoon</td>\n",
              "    </tr>\n",
              "  </tbody>\n",
              "</table>\n",
              "</div>"
            ],
            "text/plain": [
              "  Report Date Route      Time       Day  ...  year month  day_date       time\n",
              "0  2014-01-02   505  06:31:00  Thursday  ...  2014     1         2    morning\n",
              "1  2014-01-02   504  12:43:00  Thursday  ...  2014     1         2    morning\n",
              "2  2014-01-02   501  14:01:00  Thursday  ...  2014     1         2  afternoon\n",
              "3  2014-01-02   504  14:22:00  Thursday  ...  2014     1         2  afternoon\n",
              "4  2014-01-02   504  16:42:00  Thursday  ...  2014     1         2  afternoon\n",
              "\n",
              "[5 rows x 14 columns]"
            ]
          },
          "metadata": {
            "tags": []
          },
          "execution_count": 36
        }
      ]
    },
    {
      "cell_type": "code",
      "metadata": {
        "colab": {
          "base_uri": "https://localhost:8080/",
          "height": 206
        },
        "id": "nuWd9bYzEAFw",
        "outputId": "28979fc0-1093-4b00-e039-b85971cac3ef"
      },
      "source": [
        "new_columns = ['Route','Direction','Report Date','Time']\n",
        "new_df = df[new_columns] \n",
        "new_df.head(5)\n",
        "\n",
        "def getActualData(df):\n",
        "    \"\"\"A function returns the processed/cleaned data that comes from streetcars \n",
        "    delay data that is collected over the 6 years.\n",
        "    \"\"\"\n",
        "    processed_df = pd.DataFrame()\n",
        "\n",
        "    years  = (df['Report Date'].dt.year).ravel()\n",
        "    hours = [time.hour for time in df['Time']]\n",
        "    months = (df['Report Date'].dt.month).ravel()\n",
        "    dates = df['Report Date'].dt.day.ravel()\n",
        "\n",
        "    day_names = [date(years[i],months[i],dates[i]).strftime(\"%A\") for i in range(0,len(years))]\n",
        "\n",
        "    processed_df['route'] = df['Route']\n",
        "    processed_df['direction'] = df['Direction']\n",
        "    processed_df['year'] = years\n",
        "    processed_df['month'] = months\n",
        "    processed_df['date'] = dates\n",
        "    processed_df['time'] = hours\n",
        "    processed_df['day'] = day_names\n",
        "    \n",
        "    return processed_df \n",
        "\n",
        "\n",
        "actual_df = getActualData(new_df)\n",
        "actual_df.tail(5)\n"
      ],
      "execution_count": 37,
      "outputs": [
        {
          "output_type": "execute_result",
          "data": {
            "text/html": [
              "<div>\n",
              "<style scoped>\n",
              "    .dataframe tbody tr th:only-of-type {\n",
              "        vertical-align: middle;\n",
              "    }\n",
              "\n",
              "    .dataframe tbody tr th {\n",
              "        vertical-align: top;\n",
              "    }\n",
              "\n",
              "    .dataframe thead th {\n",
              "        text-align: right;\n",
              "    }\n",
              "</style>\n",
              "<table border=\"1\" class=\"dataframe\">\n",
              "  <thead>\n",
              "    <tr style=\"text-align: right;\">\n",
              "      <th></th>\n",
              "      <th>route</th>\n",
              "      <th>direction</th>\n",
              "      <th>year</th>\n",
              "      <th>month</th>\n",
              "      <th>date</th>\n",
              "      <th>time</th>\n",
              "      <th>day</th>\n",
              "    </tr>\n",
              "  </thead>\n",
              "  <tbody>\n",
              "    <tr>\n",
              "      <th>74122</th>\n",
              "      <td>501</td>\n",
              "      <td>w</td>\n",
              "      <td>2020</td>\n",
              "      <td>7</td>\n",
              "      <td>26</td>\n",
              "      <td>12</td>\n",
              "      <td>Sunday</td>\n",
              "    </tr>\n",
              "    <tr>\n",
              "      <th>74123</th>\n",
              "      <td>301</td>\n",
              "      <td>e</td>\n",
              "      <td>2020</td>\n",
              "      <td>7</td>\n",
              "      <td>27</td>\n",
              "      <td>2</td>\n",
              "      <td>Monday</td>\n",
              "    </tr>\n",
              "    <tr>\n",
              "      <th>74124</th>\n",
              "      <td>306</td>\n",
              "      <td>e</td>\n",
              "      <td>2020</td>\n",
              "      <td>7</td>\n",
              "      <td>27</td>\n",
              "      <td>2</td>\n",
              "      <td>Monday</td>\n",
              "    </tr>\n",
              "    <tr>\n",
              "      <th>74125</th>\n",
              "      <td>504</td>\n",
              "      <td>e</td>\n",
              "      <td>2020</td>\n",
              "      <td>8</td>\n",
              "      <td>3</td>\n",
              "      <td>0</td>\n",
              "      <td>Monday</td>\n",
              "    </tr>\n",
              "    <tr>\n",
              "      <th>74126</th>\n",
              "      <td>501</td>\n",
              "      <td>w</td>\n",
              "      <td>2020</td>\n",
              "      <td>8</td>\n",
              "      <td>3</td>\n",
              "      <td>23</td>\n",
              "      <td>Monday</td>\n",
              "    </tr>\n",
              "  </tbody>\n",
              "</table>\n",
              "</div>"
            ],
            "text/plain": [
              "      route direction  year  month  date  time     day\n",
              "74122   501         w  2020      7    26    12  Sunday\n",
              "74123   301         e  2020      7    27     2  Monday\n",
              "74124   306         e  2020      7    27     2  Monday\n",
              "74125   504         e  2020      8     3     0  Monday\n",
              "74126   501         w  2020      8     3    23  Monday"
            ]
          },
          "metadata": {
            "tags": []
          },
          "execution_count": 37
        }
      ]
    },
    {
      "cell_type": "code",
      "metadata": {
        "colab": {
          "base_uri": "https://localhost:8080/",
          "height": 206
        },
        "id": "V-rvwNHGaOCW",
        "outputId": "b548a837-81bb-44e5-de2e-7e1a8b1e4cb7"
      },
      "source": [
        "# combining the generated/augmented data with the given/actual data.\n",
        "merged_df = pd.concat([actual_df,augmented_df])\n",
        "merged_df.reset_index(drop=True,inplace=True)\n",
        "merged_df.tail()"
      ],
      "execution_count": 38,
      "outputs": [
        {
          "output_type": "execute_result",
          "data": {
            "text/html": [
              "<div>\n",
              "<style scoped>\n",
              "    .dataframe tbody tr th:only-of-type {\n",
              "        vertical-align: middle;\n",
              "    }\n",
              "\n",
              "    .dataframe tbody tr th {\n",
              "        vertical-align: top;\n",
              "    }\n",
              "\n",
              "    .dataframe thead th {\n",
              "        text-align: right;\n",
              "    }\n",
              "</style>\n",
              "<table border=\"1\" class=\"dataframe\">\n",
              "  <thead>\n",
              "    <tr style=\"text-align: right;\">\n",
              "      <th></th>\n",
              "      <th>route</th>\n",
              "      <th>direction</th>\n",
              "      <th>year</th>\n",
              "      <th>month</th>\n",
              "      <th>date</th>\n",
              "      <th>time</th>\n",
              "      <th>day</th>\n",
              "    </tr>\n",
              "  </thead>\n",
              "  <tbody>\n",
              "    <tr>\n",
              "      <th>1687349</th>\n",
              "      <td>306</td>\n",
              "      <td>w</td>\n",
              "      <td>2020</td>\n",
              "      <td>7</td>\n",
              "      <td>31</td>\n",
              "      <td>20</td>\n",
              "      <td>Friday</td>\n",
              "    </tr>\n",
              "    <tr>\n",
              "      <th>1687350</th>\n",
              "      <td>306</td>\n",
              "      <td>w</td>\n",
              "      <td>2020</td>\n",
              "      <td>7</td>\n",
              "      <td>31</td>\n",
              "      <td>21</td>\n",
              "      <td>Friday</td>\n",
              "    </tr>\n",
              "    <tr>\n",
              "      <th>1687351</th>\n",
              "      <td>306</td>\n",
              "      <td>w</td>\n",
              "      <td>2020</td>\n",
              "      <td>7</td>\n",
              "      <td>31</td>\n",
              "      <td>22</td>\n",
              "      <td>Friday</td>\n",
              "    </tr>\n",
              "    <tr>\n",
              "      <th>1687352</th>\n",
              "      <td>306</td>\n",
              "      <td>w</td>\n",
              "      <td>2020</td>\n",
              "      <td>7</td>\n",
              "      <td>31</td>\n",
              "      <td>23</td>\n",
              "      <td>Friday</td>\n",
              "    </tr>\n",
              "    <tr>\n",
              "      <th>1687353</th>\n",
              "      <td>306</td>\n",
              "      <td>w</td>\n",
              "      <td>2020</td>\n",
              "      <td>7</td>\n",
              "      <td>31</td>\n",
              "      <td>24</td>\n",
              "      <td>Friday</td>\n",
              "    </tr>\n",
              "  </tbody>\n",
              "</table>\n",
              "</div>"
            ],
            "text/plain": [
              "        route direction  year  month  date  time     day\n",
              "1687349   306         w  2020      7    31    20  Friday\n",
              "1687350   306         w  2020      7    31    21  Friday\n",
              "1687351   306         w  2020      7    31    22  Friday\n",
              "1687352   306         w  2020      7    31    23  Friday\n",
              "1687353   306         w  2020      7    31    24  Friday"
            ]
          },
          "metadata": {
            "tags": []
          },
          "execution_count": 38
        }
      ]
    },
    {
      "cell_type": "code",
      "metadata": {
        "colab": {
          "base_uri": "https://localhost:8080/"
        },
        "id": "3z5uSHvmaIwh",
        "outputId": "36225aaa-6326-4e1e-c809-7145f7cf478f"
      },
      "source": [
        "# find duplicates\n",
        "merged_df['duplicate'] = merged_df.duplicated()\n",
        "merged_df.shape"
      ],
      "execution_count": 39,
      "outputs": [
        {
          "output_type": "execute_result",
          "data": {
            "text/plain": [
              "(1687354, 8)"
            ]
          },
          "metadata": {
            "tags": []
          },
          "execution_count": 39
        }
      ]
    },
    {
      "cell_type": "code",
      "metadata": {
        "colab": {
          "base_uri": "https://localhost:8080/"
        },
        "id": "f8SDZ_xqam6p",
        "outputId": "de3eadb5-7cdc-483b-e7f8-0d4fdeb50664"
      },
      "source": [
        "# Add targets [ delay = 1, no delay = 0]\n",
        "# the actual data has 74126 rows. So, they represent the actual delay data given. \n",
        "# And they should be label as 1, oherwise label 0.\n",
        "\n",
        "targets = [1 if i < 74127 else 0 for i in range(0, merged_df.shape[0])]\n",
        "# merged_df['delay'] = targets\n",
        "\n",
        "merged_df['label'] = targets\n",
        "merged_df['duplicate'].value_counts()"
      ],
      "execution_count": 40,
      "outputs": [
        {
          "output_type": "execute_result",
          "data": {
            "text/plain": [
              "False    1627556\n",
              "True       59798\n",
              "Name: duplicate, dtype: int64"
            ]
          },
          "metadata": {
            "tags": []
          },
          "execution_count": 40
        }
      ]
    },
    {
      "cell_type": "code",
      "metadata": {
        "id": "eZ2RGAbdnHNr"
      },
      "source": [
        "def removeDuplicateEntries(merged_df):\n",
        "    \"\"\" The augmented data includes all delays and non-delays data. \n",
        "        So, remove the data that already exists in the actual data.\n",
        "    \"\"\"\n",
        "    duplicates = []\n",
        "    for i, duplicate in enumerate(merged_df['duplicate']):\n",
        "        if (i >= 74127 and duplicate == True):\n",
        "            duplicates.append('x')\n",
        "        else:\n",
        "            duplicates.append(duplicate)\n",
        "    return duplicates\n"
      ],
      "execution_count": 41,
      "outputs": []
    },
    {
      "cell_type": "code",
      "metadata": {
        "id": "i0md50Z34sIg"
      },
      "source": [
        "duplicates = removeDuplicateEntries(merged_df)"
      ],
      "execution_count": 42,
      "outputs": []
    },
    {
      "cell_type": "code",
      "metadata": {
        "id": "SIlz2L-I4x3_"
      },
      "source": [
        "merged_df['duplicate'] = duplicates\n",
        "# Delete these row indexes from dataFrame\n",
        "index_of_rows = merged_df[merged_df['duplicate'] == 'x'].index\n",
        "merged_df.drop(index_of_rows , inplace=True)"
      ],
      "execution_count": 43,
      "outputs": []
    },
    {
      "cell_type": "code",
      "metadata": {
        "colab": {
          "base_uri": "https://localhost:8080/",
          "height": 206
        },
        "id": "Fi8di65ccl6A",
        "outputId": "da8fde99-8a1b-419a-b15b-820fc0ea41d4"
      },
      "source": [
        "# since this is a chronological data, let's sort it out by year/month/date/time\n",
        "merged_df.sort_values(by=['year','month','date','time'], inplace=True)\n",
        "merged_df.reset_index(drop=True,inplace=True)\n",
        "# drop the duplicate columns:\n",
        "merged_df.drop(columns=['duplicate'],inplace=True)\n",
        "merged_df.head(5)"
      ],
      "execution_count": 44,
      "outputs": [
        {
          "output_type": "execute_result",
          "data": {
            "text/html": [
              "<div>\n",
              "<style scoped>\n",
              "    .dataframe tbody tr th:only-of-type {\n",
              "        vertical-align: middle;\n",
              "    }\n",
              "\n",
              "    .dataframe tbody tr th {\n",
              "        vertical-align: top;\n",
              "    }\n",
              "\n",
              "    .dataframe thead th {\n",
              "        text-align: right;\n",
              "    }\n",
              "</style>\n",
              "<table border=\"1\" class=\"dataframe\">\n",
              "  <thead>\n",
              "    <tr style=\"text-align: right;\">\n",
              "      <th></th>\n",
              "      <th>route</th>\n",
              "      <th>direction</th>\n",
              "      <th>year</th>\n",
              "      <th>month</th>\n",
              "      <th>date</th>\n",
              "      <th>time</th>\n",
              "      <th>day</th>\n",
              "      <th>label</th>\n",
              "    </tr>\n",
              "  </thead>\n",
              "  <tbody>\n",
              "    <tr>\n",
              "      <th>0</th>\n",
              "      <td>510</td>\n",
              "      <td>s</td>\n",
              "      <td>2014</td>\n",
              "      <td>1</td>\n",
              "      <td>1</td>\n",
              "      <td>1</td>\n",
              "      <td>Wednesday</td>\n",
              "      <td>1</td>\n",
              "    </tr>\n",
              "    <tr>\n",
              "      <th>1</th>\n",
              "      <td>510</td>\n",
              "      <td>n</td>\n",
              "      <td>2014</td>\n",
              "      <td>1</td>\n",
              "      <td>1</td>\n",
              "      <td>1</td>\n",
              "      <td>Wednesday</td>\n",
              "      <td>0</td>\n",
              "    </tr>\n",
              "    <tr>\n",
              "      <th>2</th>\n",
              "      <td>511</td>\n",
              "      <td>s</td>\n",
              "      <td>2014</td>\n",
              "      <td>1</td>\n",
              "      <td>1</td>\n",
              "      <td>1</td>\n",
              "      <td>Wednesday</td>\n",
              "      <td>0</td>\n",
              "    </tr>\n",
              "    <tr>\n",
              "      <th>3</th>\n",
              "      <td>511</td>\n",
              "      <td>n</td>\n",
              "      <td>2014</td>\n",
              "      <td>1</td>\n",
              "      <td>1</td>\n",
              "      <td>1</td>\n",
              "      <td>Wednesday</td>\n",
              "      <td>0</td>\n",
              "    </tr>\n",
              "    <tr>\n",
              "      <th>4</th>\n",
              "      <td>512</td>\n",
              "      <td>s</td>\n",
              "      <td>2014</td>\n",
              "      <td>1</td>\n",
              "      <td>1</td>\n",
              "      <td>1</td>\n",
              "      <td>Wednesday</td>\n",
              "      <td>0</td>\n",
              "    </tr>\n",
              "  </tbody>\n",
              "</table>\n",
              "</div>"
            ],
            "text/plain": [
              "  route direction  year  month  date  time        day  label\n",
              "0   510         s  2014      1     1     1  Wednesday      1\n",
              "1   510         n  2014      1     1     1  Wednesday      0\n",
              "2   511         s  2014      1     1     1  Wednesday      0\n",
              "3   511         n  2014      1     1     1  Wednesday      0\n",
              "4   512         s  2014      1     1     1  Wednesday      0"
            ]
          },
          "metadata": {
            "tags": []
          },
          "execution_count": 44
        }
      ]
    },
    {
      "cell_type": "code",
      "metadata": {
        "colab": {
          "base_uri": "https://localhost:8080/",
          "height": 206
        },
        "id": "yVp8Be4Y9D2P",
        "outputId": "1e9bb1f4-bfc1-4f93-b3ff-7fabb99847be"
      },
      "source": [
        "    \n",
        "def encode_features(merged_df):\n",
        "        \"\"\" encode the categorical features into descrete numeric values.\n",
        "        \"\"\"\n",
        "        features = pd.DataFrame()\n",
        "        ordEncoder = OrdinalEncoder()\n",
        "        categorical_columns = ['route','direction','year','month','date','time','day']\n",
        "        for column in merged_df.columns:\n",
        "            if column in categorical_columns:\n",
        "                data = np.asarray(merged_df[column]).reshape(-1,1)\n",
        "                data = ordEncoder.fit_transform(data)\n",
        "                features[column] = data.ravel()\n",
        "            else:\n",
        "                features[column] = merged_df[column]\n",
        "        return features\n",
        "# call the function to encode features\n",
        "\n",
        "processed_features =  encode_features(merged_df)\n",
        "\n",
        "processed_features.tail()"
      ],
      "execution_count": 45,
      "outputs": [
        {
          "output_type": "execute_result",
          "data": {
            "text/html": [
              "<div>\n",
              "<style scoped>\n",
              "    .dataframe tbody tr th:only-of-type {\n",
              "        vertical-align: middle;\n",
              "    }\n",
              "\n",
              "    .dataframe tbody tr th {\n",
              "        vertical-align: top;\n",
              "    }\n",
              "\n",
              "    .dataframe thead th {\n",
              "        text-align: right;\n",
              "    }\n",
              "</style>\n",
              "<table border=\"1\" class=\"dataframe\">\n",
              "  <thead>\n",
              "    <tr style=\"text-align: right;\">\n",
              "      <th></th>\n",
              "      <th>route</th>\n",
              "      <th>direction</th>\n",
              "      <th>year</th>\n",
              "      <th>month</th>\n",
              "      <th>date</th>\n",
              "      <th>time</th>\n",
              "      <th>day</th>\n",
              "      <th>label</th>\n",
              "    </tr>\n",
              "  </thead>\n",
              "  <tbody>\n",
              "    <tr>\n",
              "      <th>1636780</th>\n",
              "      <td>1.0</td>\n",
              "      <td>3.0</td>\n",
              "      <td>6.0</td>\n",
              "      <td>6.0</td>\n",
              "      <td>30.0</td>\n",
              "      <td>24.0</td>\n",
              "      <td>0.0</td>\n",
              "      <td>0</td>\n",
              "    </tr>\n",
              "    <tr>\n",
              "      <th>1636781</th>\n",
              "      <td>2.0</td>\n",
              "      <td>0.0</td>\n",
              "      <td>6.0</td>\n",
              "      <td>6.0</td>\n",
              "      <td>30.0</td>\n",
              "      <td>24.0</td>\n",
              "      <td>0.0</td>\n",
              "      <td>0</td>\n",
              "    </tr>\n",
              "    <tr>\n",
              "      <th>1636782</th>\n",
              "      <td>2.0</td>\n",
              "      <td>3.0</td>\n",
              "      <td>6.0</td>\n",
              "      <td>6.0</td>\n",
              "      <td>30.0</td>\n",
              "      <td>24.0</td>\n",
              "      <td>0.0</td>\n",
              "      <td>0</td>\n",
              "    </tr>\n",
              "    <tr>\n",
              "      <th>1636783</th>\n",
              "      <td>7.0</td>\n",
              "      <td>0.0</td>\n",
              "      <td>6.0</td>\n",
              "      <td>7.0</td>\n",
              "      <td>2.0</td>\n",
              "      <td>0.0</td>\n",
              "      <td>1.0</td>\n",
              "      <td>1</td>\n",
              "    </tr>\n",
              "    <tr>\n",
              "      <th>1636784</th>\n",
              "      <td>4.0</td>\n",
              "      <td>3.0</td>\n",
              "      <td>6.0</td>\n",
              "      <td>7.0</td>\n",
              "      <td>2.0</td>\n",
              "      <td>23.0</td>\n",
              "      <td>1.0</td>\n",
              "      <td>1</td>\n",
              "    </tr>\n",
              "  </tbody>\n",
              "</table>\n",
              "</div>"
            ],
            "text/plain": [
              "         route  direction  year  month  date  time  day  label\n",
              "1636780    1.0        3.0   6.0    6.0  30.0  24.0  0.0      0\n",
              "1636781    2.0        0.0   6.0    6.0  30.0  24.0  0.0      0\n",
              "1636782    2.0        3.0   6.0    6.0  30.0  24.0  0.0      0\n",
              "1636783    7.0        0.0   6.0    7.0   2.0   0.0  1.0      1\n",
              "1636784    4.0        3.0   6.0    7.0   2.0  23.0  1.0      1"
            ]
          },
          "metadata": {
            "tags": []
          },
          "execution_count": 45
        }
      ]
    },
    {
      "cell_type": "code",
      "metadata": {
        "colab": {
          "base_uri": "https://localhost:8080/",
          "height": 320
        },
        "id": "s-7QTBlU8nCp",
        "outputId": "f90dfaf0-195e-440f-94d5-78ce9ec67e69"
      },
      "source": [
        "sns.heatmap(processed_features.corr())"
      ],
      "execution_count": 46,
      "outputs": [
        {
          "output_type": "execute_result",
          "data": {
            "text/plain": [
              "<matplotlib.axes._subplots.AxesSubplot at 0x7f2a235c5890>"
            ]
          },
          "metadata": {
            "tags": []
          },
          "execution_count": 46
        },
        {
          "output_type": "display_data",
          "data": {
            "image/png": "[encoded data removed]",
            "text/plain": [
              "<Figure size 432x288 with 2 Axes>"
            ]
          },
          "metadata": {
            "tags": [],
            "needs_background": "light"
          }
        }
      ]
    },
    {
      "cell_type": "code",
      "metadata": {
        "colab": {
          "base_uri": "https://localhost:8080/"
        },
        "id": "G3c8lA-UDqMA",
        "outputId": "8bab9892-295d-42d0-d0f9-8d4e50180481"
      },
      "source": [
        "# sns.pairplot(processed_features\n",
        "processed_features.columns"
      ],
      "execution_count": 47,
      "outputs": [
        {
          "output_type": "execute_result",
          "data": {
            "text/plain": [
              "Index(['route', 'direction', 'year', 'month', 'date', 'time', 'day', 'label'], dtype='object')"
            ]
          },
          "metadata": {
            "tags": []
          },
          "execution_count": 47
        }
      ]
    },
    {
      "cell_type": "code",
      "metadata": {
        "id": "9-b_4etsERFZ"
      },
      "source": [
        "X_features = processed_features.iloc[:,0:-1]\n",
        "Y_features = processed_features['label']\n",
        "X_train,X_test, y_train, y_test = train_test_split(X_features,Y_features,test_size=0.3,random_state=42)"
      ],
      "execution_count": 48,
      "outputs": []
    },
    {
      "cell_type": "code",
      "metadata": {
        "colab": {
          "base_uri": "https://localhost:8080/"
        },
        "id": "55RfRamCEBFI",
        "outputId": "a349cfc2-d051-4394-f4e9-cc1f6c3030b5"
      },
      "source": [
        "X_train.shape,X_test.shape, y_train.shape, y_test.shape"
      ],
      "execution_count": 49,
      "outputs": [
        {
          "output_type": "execute_result",
          "data": {
            "text/plain": [
              "((1145749, 7), (491036, 7), (1145749,), (491036,))"
            ]
          },
          "metadata": {
            "tags": []
          },
          "execution_count": 49
        }
      ]
    },
    {
      "cell_type": "code",
      "metadata": {
        "colab": {
          "base_uri": "https://localhost:8080/"
        },
        "id": "w2kd0mmZAj0i",
        "outputId": "60b18ae6-e41b-4126-9ab1-7d557d2e902b"
      },
      "source": [
        "processed_features.isna().sum()"
      ],
      "execution_count": 50,
      "outputs": [
        {
          "output_type": "execute_result",
          "data": {
            "text/plain": [
              "route        0\n",
              "direction    0\n",
              "year         0\n",
              "month        0\n",
              "date         0\n",
              "time         0\n",
              "day          0\n",
              "label        0\n",
              "dtype: int64"
            ]
          },
          "metadata": {
            "tags": []
          },
          "execution_count": 50
        }
      ]
    },
    {
      "cell_type": "code",
      "metadata": {
        "id": "uPgb1sphI4Lb"
      },
      "source": [
        "\n",
        "class LazyClassifiers:\n",
        "    \"\"\"This class is a class with 9 classifer algorithms. \n",
        "    Given  certain features, it predicts the minimum delay of a streetcars. \n",
        "    \"\"\"\n",
        "    def __init__(self,x_train,x_test,y_train,y_test):\n",
        "        self.x_train    = np.array(x_train)\n",
        "        self.x_test     = np.array(x_test)\n",
        "        self.y_train    = y_train \n",
        "        self.y_test     = y_test\n",
        "        self.score      = 0\n",
        "        self.f1_score   = 0 \n",
        "        self.recall     = 0\n",
        "        self.precision  = 0\n",
        "        self.n_features = x_train.shape[1]\n",
        "        self.accuracy   = 0\n",
        "        self.precison   = 0\n",
        "        self.recall     = 0\n",
        "        self.f1score    = 0\n",
        "        self.cm = None\n",
        "        self.coeficientOfDetermination = 0\n",
        "        self.history = None\n",
        "\n",
        "    def metrics(self):\n",
        "        ''' reports the performance of a models using three metrics'''\n",
        "        # calculate absolute mean errors\n",
        "        self.accuracy = accuracy_score(self.y_test, self.y_pred)\n",
        "        print('Accuracy = {:.3f}%'.format(self.accuracy*100))\n",
        "\n",
        "        # calculate root mean squared errors\n",
        "        self.precison = precision_score(self.y_test, self.y_pred, zero_division=1)\n",
        "        print('Precision Accuracy = {:.3f}%'.format(self.accuracy*100))\n",
        "        self.recall = recall_score(self.y_test, self.y_pred, zero_division=1)\n",
        "        print('Recall Accuracy = {:.3f}%'.format(self.recall*100))\n",
        "\n",
        "        self.f1score = f1_score(self.y_test, self.y_pred)\n",
        "        print('f1score = {:.3f}%'.format(self.f1score*100))\n",
        "        self.cm = confusion_matrix(self.y_test,self.y_pred)\n",
        "        self.cm = pd.DataFrame(self.cm, index = ['NO DELAY', 'DELAY'],columns = ['NO DELAY', 'DELAY'])\n",
        "        plt.figure(figsize = (10,7))\n",
        "        plt.title(\"Confusion Matrix\")\n",
        "        sns.heatmap(self.cm, annot=True)\n",
        "        plt.show()\n",
        "        print('\\n')\n",
        "\n",
        "    def plot_model_performance(self,history):\n",
        "        # report deep neural network model performance\n",
        "        plt.plot(self.history.history['accuracy'])\n",
        "        plt.plot(self.history.history['val_accuracy'])\n",
        "        plt.title('model accuracy')\n",
        "        plt.ylabel('accuracy')\n",
        "        plt.xlabel('epoch')\n",
        "        plt.legend(['train', 'val'], loc='upper left')\n",
        "        plt.show()\n",
        "        # summarize history for loss\n",
        "        plt.plot(self.history.history['loss'])\n",
        "        plt.plot(self.history.history['val_loss'])\n",
        "        plt.title('model loss')\n",
        "        plt.ylabel('loss')\n",
        "        plt.xlabel('epoch')\n",
        "        plt.legend(['train', 'val'], loc='upper left')\n",
        "        plt.show()\n",
        "        \n",
        "    def logistic_reg_model(self):\n",
        "        '''linear classifer model'''\n",
        "        #create logistic regression model\n",
        "        self.logistic_reg_model = LogisticRegression()\n",
        "        # Train the model using the training sets\n",
        "        self.logistic_reg_model.fit(self.x_train, self.y_train)\n",
        "        # Make predictions using the testing set\n",
        "        self.y_pred = self.logistic_reg_model.predict(self.x_test)\n",
        "\n",
        "        print('The output of logistic regression model:')\n",
        "        # report the metrics\n",
        "        self.metrics()\n",
        "\n",
        "    def decision_tree_classifier(self):\n",
        "        '''decision tree  model'''\n",
        "        self.dt_model = DecisionTreeClassifier(random_state=0)\n",
        "        #training the model with training sets\n",
        "        self.dt_model.fit(self.x_train , self.y_train)\n",
        "        # Make predictions using the testing set\n",
        "        self.y_pred = self.dt_model.predict(self.x_test)\n",
        "\n",
        "        print('\\nThe output of decision tree  model:')\n",
        "        # The coefficients\n",
        "        # print('Coefficients:', self.dt_model.feature_importances_)\n",
        "        # print the metrics\n",
        "        self.metrics()\n",
        "\n",
        "    def svm_classifier(self):\n",
        "        '''support vector machine model'''\n",
        "        self.svm_model = SVC()\n",
        "        #training themodel with the training sets\n",
        "        self.svm_model.fit(self.x_train , self.y_train)\n",
        "        # making predictions\n",
        "        self.y_pred = self.svm_model.predict(self.x_test)\n",
        "\n",
        "        print('\\nThe output of support vector machine model:')\n",
        "        # The coefficients\n",
        "        #print('Coefficients: \\n', sv_reg_model.feature_importances_)\n",
        "        # report metrics\n",
        "        self.metrics()\n",
        "    \n",
        "    def knn_classifier(self):\n",
        "        '''k neighbours classifier model'''\n",
        "        self.knn_model = KNeighborsClassifier()\n",
        "        #training the model with training sets\n",
        "        self.knn_model.fit(self.x_train , self.y_train)\n",
        "        #making predictions\n",
        "        self.y_pred = self.knn_model.predict(self.x_test)\n",
        "        print('\\nThe output of k neighbours classifier model:')\n",
        "        self.metrics()\n",
        "\n",
        "    def random_forest_classifier(self):\n",
        "        '''random forest classifier model'''\n",
        "        self.rf_model = RandomForestClassifier(random_state=0)\n",
        "        #training the model with training sets\n",
        "        self.rf_model.fit(self.x_train , self.y_train)\n",
        "        #making predictions\n",
        "        self.y_pred = self.rf_model.predict(self.x_test)\n",
        "\n",
        "        print('The output of random forest classifier model:')\n",
        "        # The coefficients\n",
        "        # print('Coefficients:', self.rf_model.feature_importances_)\n",
        "        #report metrics\n",
        "        self.metrics()\n",
        "        # self.plot_model_performance()\n",
        "\n",
        "    def adaboost_classifier(self):\n",
        "        '''adaboost classifier model'''\n",
        "        self.adaboost_model = AdaBoostClassifier()\n",
        "        #training the model with training sets\n",
        "        self.adaboost_model.fit(self.x_train , self.y_train)\n",
        "        #making predictions\n",
        "        self.y_pred = self.adaboost_model.predict(self.x_test)\n",
        "\n",
        "        print('\\nThe output of adaboost classifier model:')\n",
        "        # The coefficients\n",
        "        # print('Coefficients: ', self.adaboost_model.feature_importances_)\n",
        "        # report metrics and plot performance\n",
        "        self.metrics()\n",
        "        # self.plot_model_performance()\n",
        "        \n",
        "    def gradboost_classifier(self):\n",
        "        '''gradient boost  model'''\n",
        "        self.gradboost_model = GradientBoostingClassifier()\n",
        "        #training the model with training sets\n",
        "        self.gradboost_model.fit(self.x_train , self.y_train)\n",
        "        #making predictions\n",
        "        self.y_pred = self.gradboost_model.predict(self.x_test)\n",
        "\n",
        "        print('\\nThe output of gradient boost model:')\n",
        "        # The coefficients\n",
        "        # print('Coefficients:', self.gradboost_model.feature_importances_)\n",
        "        # report metrics \n",
        "        self.metrics()\n",
        "\n",
        "\n",
        "    def xgboost_classifier(self):\n",
        "        '''x/extreme gradient boost classifier model'''\n",
        "        self.xgb_model = XGBClassifier()\n",
        "        #training the model with training sets\n",
        "        self.xgb_model.fit(self.x_train , self.y_train)\n",
        "        #making predictions\n",
        "        self.y_pred = self.xgb_model.predict(self.x_test)\n",
        "\n",
        "        print('\\nThe output of xgboost classifier model:')\n",
        "        # The coefficients\n",
        "        # print('Coefficients:', self.xgb_model.feature_importances_)\n",
        "        \n",
        "        # report the metrics and plot the performance\n",
        "        self.metrics()\n",
        "        # self.plot_model_performance()\n",
        "\n",
        "    def dnn_classifier(self,epoch = 20):\n",
        "        '''deep neural networks classifier model'''\n",
        "        self.n_features = self.x_train.shape[1]\n",
        "        self.epoch = epoch\n",
        "        self.data_normalizer = preprocessing.Normalization(input_shape=[self.n_features,])\n",
        "        self.data_normalizer.adapt(self.x_train)\n",
        "\n",
        "        # build the model\n",
        "        self.dnn_model = tf.keras.Sequential([self.data_normalizer,\n",
        "                                            layers.Dense(32, activation='relu'),\n",
        "                                            layers.Dense(16, activation='relu'),\n",
        "                                           layers.Dense(4, activation='relu'),\n",
        "                                            layers.Dense(1,activation='sigmoid')\n",
        "        ])\n",
        "\n",
        "        #compile the model\n",
        "        self.dnn_model.compile(\n",
        "                optimizer='adam',\n",
        "                loss=tf.keras.losses.BinaryCrossentropy(from_logits=True),\n",
        "                metrics=['accuracy'])\n",
        "        print(\"The deep neural networks model's architecture: \", self.dnn_model.summary())\n",
        "\n",
        "        self.history = self.dnn_model.fit(self.x_train, self.y_train, validation_split=0.2,verbose=0, epochs=self.epoch)\n",
        "\n",
        "        self.test_loss = self.dnn_model.evaluate(self.x_test, self.y_test, verbose=1)\n",
        "        print(f'test loss {self.test_loss}')\n",
        "\n",
        "        self.y_pred = self.dnn_model.predict(self.x_test).flatten()\n",
        "        self.y_pred =  np.where(self.y_pred < 0.5, 0, 1)\n",
        "        # report the metrics and model's performance\n",
        "        self.metrics()\n",
        "        #report the model's training and validation loss\n",
        "        self.plot_model_performance(self.history)"
      ],
      "execution_count": 46,
      "outputs": []
    },
    {
      "cell_type": "code",
      "metadata": {
        "colab": {
          "base_uri": "https://localhost:8080/",
          "height": 566
        },
        "id": "kQmAKJwzPWrK",
        "outputId": "d3b7f5c0-5d09-4a6d-a384-d774c6586948"
      },
      "source": [
        "lazyClassifier = LazyClassifiers(X_train,X_test, y_train, y_test)\n",
        "lazyClassifier.logistic_reg_model()"
      ],
      "execution_count": 47,
      "outputs": [
        {
          "output_type": "stream",
          "text": [
            "The output of logistic regression model:\n",
            "Accuracy = 95.448%\n",
            "Precision Accuracy = 95.448%\n",
            "Recall Accuracy = 0.000%\n",
            "f1score = 0.000%\n"
          ],
          "name": "stdout"
        },
        {
          "output_type": "display_data",
          "data": {
            "image/png": "[encoded data removed]",
            "text/plain": [
              "<Figure size 720x504 with 2 Axes>"
            ]
          },
          "metadata": {
            "tags": [],
            "needs_background": "light"
          }
        },
        {
          "output_type": "stream",
          "text": [
            "\n",
            "\n"
          ],
          "name": "stdout"
        }
      ]
    },
    {
      "cell_type": "markdown",
      "metadata": {
        "id": "Hl8Ac3XJrgSF"
      },
      "source": [
        "Observation: There is a huge classes inbalance in this data sets, sinces there are around 70k entries of actual street cars delay data and around 1.5 million entries of no-delay data. The model accuracy is so high, accroding to logistic regression output, however, f1_score of the model is 0. Which means this model is not doing a good job at predicting. So, this can be solved using random oversampling or random undersampling.\n",
        "\n",
        "\n"
      ]
    },
    {
      "cell_type": "code",
      "metadata": {
        "colab": {
          "base_uri": "https://localhost:8080/",
          "height": 583
        },
        "id": "b0XCz-Nux-OG",
        "outputId": "81aba8bb-be46-4a1a-e321-95b3b7c0ecab"
      },
      "source": [
        "lazyClassifier.knn_classifier()"
      ],
      "execution_count": 48,
      "outputs": [
        {
          "output_type": "stream",
          "text": [
            "\n",
            "The output of k neighbours classifier model:\n",
            "Accuracy = 95.418%\n",
            "Precision Accuracy = 95.418%\n",
            "Recall Accuracy = 11.252%\n",
            "f1score = 18.273%\n"
          ],
          "name": "stdout"
        },
        {
          "output_type": "display_data",
          "data": {
            "image/png": "[encoded data removed]",
            "text/plain": [
              "<Figure size 720x504 with 2 Axes>"
            ]
          },
          "metadata": {
            "tags": [],
            "needs_background": "light"
          }
        },
        {
          "output_type": "stream",
          "text": [
            "\n",
            "\n"
          ],
          "name": "stdout"
        }
      ]
    },
    {
      "cell_type": "markdown",
      "metadata": {
        "id": "DOZmBApV0X1X"
      },
      "source": [
        "Observation: The perfomance of knn tree classifier, despite data/class imbalance, is much better than logistic regression. As it can be seen, the f1 score of logistic regression was 0, but ther f1_score of the decision tree is ~0.18,still low, but better than logistic regression considering the imbalance data problems. "
      ]
    },
    {
      "cell_type": "code",
      "metadata": {
        "colab": {
          "base_uri": "https://localhost:8080/",
          "height": 583
        },
        "id": "M8_sFAPDbXTQ",
        "outputId": "005d2555-c166-44ff-fc0c-cd9438e9b402"
      },
      "source": [
        "lazyClassifier.decision_tree_classifier()"
      ],
      "execution_count": 49,
      "outputs": [
        {
          "output_type": "stream",
          "text": [
            "\n",
            "The output of decision tree  model:\n",
            "Accuracy = 94.102%\n",
            "Precision Accuracy = 94.102%\n",
            "Recall Accuracy = 45.938%\n",
            "f1score = 41.489%\n"
          ],
          "name": "stdout"
        },
        {
          "output_type": "display_data",
          "data": {
            "image/png": "[encoded data removed]",
            "text/plain": [
              "<Figure size 720x504 with 2 Axes>"
            ]
          },
          "metadata": {
            "tags": [],
            "needs_background": "light"
          }
        },
        {
          "output_type": "stream",
          "text": [
            "\n",
            "\n"
          ],
          "name": "stdout"
        }
      ]
    },
    {
      "cell_type": "code",
      "metadata": {
        "colab": {
          "base_uri": "https://localhost:8080/",
          "height": 566
        },
        "id": "vxqaUUHBo8rB",
        "outputId": "4df98bd5-577c-42ce-b6d0-ddecde6ccc1d"
      },
      "source": [
        "lazyClassifier.random_forest_classifier()"
      ],
      "execution_count": 50,
      "outputs": [
        {
          "output_type": "stream",
          "text": [
            "The output of random forest classifier model:\n",
            "Accuracy = 96.791%\n",
            "Precision Accuracy = 96.791%\n",
            "Recall Accuracy = 38.820%\n",
            "f1score = 52.415%\n"
          ],
          "name": "stdout"
        },
        {
          "output_type": "display_data",
          "data": {
            "image/png": "[encoded data removed]",
            "text/plain": [
              "<Figure size 720x504 with 2 Axes>"
            ]
          },
          "metadata": {
            "tags": [],
            "needs_background": "light"
          }
        },
        {
          "output_type": "stream",
          "text": [
            "\n",
            "\n"
          ],
          "name": "stdout"
        }
      ]
    },
    {
      "cell_type": "markdown",
      "metadata": {
        "id": "dOeMZTsz1F17"
      },
      "source": [
        "Observation 3: Random Forest classifier,consists of multiple decision tree, gives better perfomrance than decision tree.And, we can easily see that from based on the f1 score = ~0.52."
      ]
    },
    {
      "cell_type": "code",
      "metadata": {
        "colab": {
          "base_uri": "https://localhost:8080/",
          "height": 583
        },
        "id": "P9ye0CU6x0Rk",
        "outputId": "287dacdc-244d-40fe-efb4-bfaec28a4aa3"
      },
      "source": [
        "lazyClassifier.adaboost_classifier()"
      ],
      "execution_count": 51,
      "outputs": [
        {
          "output_type": "stream",
          "text": [
            "\n",
            "The output of adaboost classifier model:\n",
            "Accuracy = 95.539%\n",
            "Precision Accuracy = 95.539%\n",
            "Recall Accuracy = 1.991%\n",
            "f1score = 3.904%\n"
          ],
          "name": "stdout"
        },
        {
          "output_type": "display_data",
          "data": {
            "image/png": "[encoded data removed]",
            "text/plain": [
              "<Figure size 720x504 with 2 Axes>"
            ]
          },
          "metadata": {
            "tags": [],
            "needs_background": "light"
          }
        },
        {
          "output_type": "stream",
          "text": [
            "\n",
            "\n"
          ],
          "name": "stdout"
        }
      ]
    },
    {
      "cell_type": "code",
      "metadata": {
        "colab": {
          "base_uri": "https://localhost:8080/",
          "height": 583
        },
        "id": "wSLc0LUOxwTQ",
        "outputId": "df1ae389-731e-4774-e159-ccd39bda7c2b"
      },
      "source": [
        "lazyClassifier.gradboost_classifier()"
      ],
      "execution_count": 52,
      "outputs": [
        {
          "output_type": "stream",
          "text": [
            "\n",
            "The output of gradient boost model:\n",
            "Accuracy = 96.053%\n",
            "Precision Accuracy = 96.053%\n",
            "Recall Accuracy = 13.292%\n",
            "f1score = 23.465%\n"
          ],
          "name": "stdout"
        },
        {
          "output_type": "display_data",
          "data": {
            "image/png": "[encoded data removed]",
            "text/plain": [
              "<Figure size 720x504 with 2 Axes>"
            ]
          },
          "metadata": {
            "tags": [],
            "needs_background": "light"
          }
        },
        {
          "output_type": "stream",
          "text": [
            "\n",
            "\n"
          ],
          "name": "stdout"
        }
      ]
    },
    {
      "cell_type": "code",
      "metadata": {
        "colab": {
          "base_uri": "https://localhost:8080/",
          "height": 583
        },
        "id": "cspS8AOkx4ld",
        "outputId": "30d71746-f26c-492f-ce03-da37543fd338"
      },
      "source": [
        "lazyClassifier.xgboost_classifier()"
      ],
      "execution_count": 53,
      "outputs": [
        {
          "output_type": "stream",
          "text": [
            "\n",
            "The output of xgboost classifier model:\n",
            "Accuracy = 95.859%\n",
            "Precision Accuracy = 95.859%\n",
            "Recall Accuracy = 9.028%\n",
            "f1score = 16.561%\n"
          ],
          "name": "stdout"
        },
        {
          "output_type": "display_data",
          "data": {
            "image/png": "[encoded data removed]",
            "text/plain": [
              "<Figure size 720x504 with 2 Axes>"
            ]
          },
          "metadata": {
            "tags": [],
            "needs_background": "light"
          }
        },
        {
          "output_type": "stream",
          "text": [
            "\n",
            "\n"
          ],
          "name": "stdout"
        }
      ]
    },
    {
      "cell_type": "code",
      "metadata": {
        "colab": {
          "base_uri": "https://localhost:8080/",
          "height": 1000
        },
        "id": "JMJlJ4m-x7LO",
        "outputId": "178c6c77-ae38-49bc-c94f-3ef08b960481"
      },
      "source": [
        "lazyClassifier.dnn_classifier(epoch=10)"
      ],
      "execution_count": 54,
      "outputs": [
        {
          "output_type": "stream",
          "text": [
            "Model: \"sequential\"\n",
            "_________________________________________________________________\n",
            "Layer (type)                 Output Shape              Param #   \n",
            "=================================================================\n",
            "normalization_1 (Normalizati (None, 7)                 15        \n",
            "_________________________________________________________________\n",
            "dense (Dense)                (None, 32)                256       \n",
            "_________________________________________________________________\n",
            "dense_1 (Dense)              (None, 16)                528       \n",
            "_________________________________________________________________\n",
            "dense_2 (Dense)              (None, 4)                 68        \n",
            "_________________________________________________________________\n",
            "dense_3 (Dense)              (None, 1)                 5         \n",
            "=================================================================\n",
            "Total params: 872\n",
            "Trainable params: 857\n",
            "Non-trainable params: 15\n",
            "_________________________________________________________________\n",
            "The deep neural networks model's architecture:  None\n",
            "15345/15345 [==============================] - 34s 2ms/step - loss: 0.1225 - accuracy: 0.9630\n",
            "test loss [0.12253446131944656, 0.9630373120307922]\n",
            "Accuracy = 96.304%\n",
            "Precision Accuracy = 96.304%\n",
            "Recall Accuracy = 19.162%\n",
            "f1score = 32.063%\n"
          ],
          "name": "stdout"
        },
        {
          "output_type": "display_data",
          "data": {
            "image/png": "[encoded data removed]",
            "text/plain": [
              "<Figure size 720x504 with 2 Axes>"
            ]
          },
          "metadata": {
            "tags": [],
            "needs_background": "light"
          }
        },
        {
          "output_type": "stream",
          "text": [
            "\n",
            "\n"
          ],
          "name": "stdout"
        },
        {
          "output_type": "display_data",
          "data": {
            "image/png": "[encoded data removed]",
            "text/plain": [
              "<Figure size 432x288 with 1 Axes>"
            ]
          },
          "metadata": {
            "tags": [],
            "needs_background": "light"
          }
        },
        {
          "output_type": "display_data",
          "data": {
            "image/png": "[encoded data removed]",
            "text/plain": [
              "<Figure size 432x288 with 1 Axes>"
            ]
          },
          "metadata": {
            "tags": [],
            "needs_background": "light"
          }
        }
      ]
    },
    {
      "cell_type": "code",
      "metadata": {
        "id": "PiCbFpgRZ4Nu"
      },
      "source": [
        "#lazyClassifier.svm_classifier()   "
      ],
      "execution_count": 55,
      "outputs": []
    },
    {
      "cell_type": "markdown",
      "metadata": {
        "id": "BUVhSbGx4_ra"
      },
      "source": [
        "##Conclusion 1: \n",
        "\n",
        "---\n",
        " The predictive performance of random forest(first), decision tree(second), and xgboost algorithms(the third best) are the best compared to  other algorithms. We can see the  recall and f1 score is imporved. It seems that random forest or Decision tree, the XGBoost give better results with extremely imbalance data. "
      ]
    },
    {
      "cell_type": "markdown",
      "metadata": {
        "id": "6PbNE17WLLNa"
      },
      "source": [
        "###PS\n",
        "---\n",
        " The output/result of svm was similar and slightly better than logistic regression,but it takes a long time to run, so I commented it to avoid extremely long running time ."
      ]
    },
    {
      "cell_type": "markdown",
      "metadata": {
        "id": "sc7z_zD3UAe_"
      },
      "source": [
        "Conclusion 2:\n",
        "---\n",
        " As it is shown from the *```accuracy and f1 score, or from the Confusion Matrix```* of different models, random forest algorithm's model outperformed all the other models' predictive accuaracies. Even with extreme data(class) imbalance, it has achieved f1_score of ~0.52.  Hence, from all the models, we can conclude that, Random Forest, Decision Tree, and XGBoost are the best classifiers with this imbalance data. So, in the next steps, since I have class imbalance,it has to be addressed, and it can be handled in two ways: Oversampling(the minority class) or Undersampling(the majority class) and once I get a balanced data, I can build a robust model. Since, oversampling is increasing the minority data by duplicatation or interpolation and it may add another unneeded features to my data sets. However, that is not the main issue that I do not want to use oversampling. Oversampling will increase my data size and , currently with the 1.68 Million rows of data, my data is extremely big and each model takes quiet some time. Therefore, to avoid a lot of time for traing,  I prefer to use undersampling.Anyway, I will use undersampling technique to balance my data as well as reduce my data at the same time to facilitate the process. Nonetheless, one can use undersampling, oversampling or combination of both techniques to create a good data set and build a robust model."
      ]
    },
    {
      "cell_type": "markdown",
      "metadata": {
        "id": "HZG0S_ZBlcbC"
      },
      "source": [
        "# `****Undersampling Technique to balance my Datasets`"
      ]
    },
    {
      "cell_type": "code",
      "metadata": {
        "colab": {
          "base_uri": "https://localhost:8080/"
        },
        "id": "K0qlm0e6ZV_e",
        "outputId": "ecf2d520-9983-4106-ec95-c3e947ec479f"
      },
      "source": [
        "# define undersample strategy\n",
        "randomUnderSampler = RandomUnderSampler(sampling_strategy='majority', random_state=42)\n",
        "X_undersampled, Y_undersampled = randomUnderSampler.fit_resample(X_features, Y_features)"
      ],
      "execution_count": 51,
      "outputs": [
        {
          "output_type": "stream",
          "text": [
            "/usr/local/lib/python3.7/dist-packages/sklearn/utils/deprecation.py:87: FutureWarning: Function safe_indexing is deprecated; safe_indexing is deprecated in version 0.22 and will be removed in version 0.24.\n",
            "  warnings.warn(msg, category=FutureWarning)\n"
          ],
          "name": "stderr"
        }
      ]
    },
    {
      "cell_type": "code",
      "metadata": {
        "colab": {
          "base_uri": "https://localhost:8080/"
        },
        "id": "GOtjy1-m7Wg3",
        "outputId": "ac4658c6-3ab3-40fb-d2b6-1514cf1a41dc"
      },
      "source": [
        "# the majority class is undersampled, let's see the shape of the data\n",
        "X_undersampled.shape, Y_undersampled.shape"
      ],
      "execution_count": 52,
      "outputs": [
        {
          "output_type": "execute_result",
          "data": {
            "text/plain": [
              "((148254, 7), (148254,))"
            ]
          },
          "metadata": {
            "tags": []
          },
          "execution_count": 52
        }
      ]
    },
    {
      "cell_type": "markdown",
      "metadata": {
        "id": "u8cibdTMM2Ca"
      },
      "source": [
        "```After applying undersampling technique, my data size is reduced by a lot, from ~ 1.68 Million entries to 148,254 rows.```"
      ]
    },
    {
      "cell_type": "code",
      "metadata": {
        "id": "5QeaVD8WXCHj"
      },
      "source": [
        "# spliting to training and testing data from the unsersampled data set\n",
        "X_train,X_test, y_train, y_test = train_test_split(X_undersampled,Y_undersampled,test_size=0.3,random_state=42)"
      ],
      "execution_count": 53,
      "outputs": []
    },
    {
      "cell_type": "code",
      "metadata": {
        "colab": {
          "base_uri": "https://localhost:8080/",
          "height": 566
        },
        "id": "N3lagfpIcq89",
        "outputId": "0e741128-5960-43a8-8131-ef5b3c14e100"
      },
      "source": [
        "# Now, let's create lazyClassifier object to run all the classifiers when the data is balanced \n",
        "lazyClassifier2 = LazyClassifiers(X_train,X_test,y_train, y_test)\n",
        "lazyClassifier2.logistic_reg_model()"
      ],
      "execution_count": 59,
      "outputs": [
        {
          "output_type": "stream",
          "text": [
            "The output of logistic regression model:\n",
            "Accuracy = 54.610%\n",
            "Precision Accuracy = 54.610%\n",
            "Recall Accuracy = 54.266%\n",
            "f1score = 54.564%\n"
          ],
          "name": "stdout"
        },
        {
          "output_type": "display_data",
          "data": {
            "image/png": "[encoded data removed]",
            "text/plain": [
              "<Figure size 720x504 with 2 Axes>"
            ]
          },
          "metadata": {
            "tags": [],
            "needs_background": "light"
          }
        },
        {
          "output_type": "stream",
          "text": [
            "\n",
            "\n"
          ],
          "name": "stdout"
        }
      ]
    },
    {
      "cell_type": "markdown",
      "metadata": {
        "id": "a4iIfoaGdyhI"
      },
      "source": [
        "Comment: The predictive accuracy of the logistic regression model has improved well after undersampling is performed. The accuracy has been decreased from 96% to around 54.5%, but it is noticable that , from the confusion matrix.Also, f1 score of the model is improved,and it has performed well at classifying class 1 now than it did before the undersampling."
      ]
    },
    {
      "cell_type": "code",
      "metadata": {
        "colab": {
          "base_uri": "https://localhost:8080/",
          "height": 583
        },
        "id": "VD8hsRPLiLWD",
        "outputId": "6688bd6b-5b2b-452e-ca6c-2186b422bd69"
      },
      "source": [
        "lazyClassifier2.knn_classifier()"
      ],
      "execution_count": 60,
      "outputs": [
        {
          "output_type": "stream",
          "text": [
            "\n",
            "The output of k neighbours classifier model:\n",
            "Accuracy = 71.169%\n",
            "Precision Accuracy = 71.169%\n",
            "Recall Accuracy = 75.898%\n",
            "f1score = 72.560%\n"
          ],
          "name": "stdout"
        },
        {
          "output_type": "display_data",
          "data": {
            "image/png": "[encoded data removed]",
            "text/plain": [
              "<Figure size 720x504 with 2 Axes>"
            ]
          },
          "metadata": {
            "tags": [],
            "needs_background": "light"
          }
        },
        {
          "output_type": "stream",
          "text": [
            "\n",
            "\n"
          ],
          "name": "stdout"
        }
      ]
    },
    {
      "cell_type": "code",
      "metadata": {
        "colab": {
          "base_uri": "https://localhost:8080/",
          "height": 583
        },
        "id": "WOBHEnNoe-nV",
        "outputId": "9e454e02-87c6-460f-bb61-46e13b6b2e46"
      },
      "source": [
        "lazyClassifier2.decision_tree_classifier()"
      ],
      "execution_count": 61,
      "outputs": [
        {
          "output_type": "stream",
          "text": [
            "\n",
            "The output of decision tree  model:\n",
            "Accuracy = 77.885%\n",
            "Precision Accuracy = 77.885%\n",
            "Recall Accuracy = 78.337%\n",
            "f1score = 78.061%\n"
          ],
          "name": "stdout"
        },
        {
          "output_type": "display_data",
          "data": {
            "image/png": "[encoded data removed]",
            "text/plain": [
              "<Figure size 720x504 with 2 Axes>"
            ]
          },
          "metadata": {
            "tags": [],
            "needs_background": "light"
          }
        },
        {
          "output_type": "stream",
          "text": [
            "\n",
            "\n"
          ],
          "name": "stdout"
        }
      ]
    },
    {
      "cell_type": "code",
      "metadata": {
        "colab": {
          "base_uri": "https://localhost:8080/",
          "height": 566
        },
        "id": "cZKFc0HegBDn",
        "outputId": "8c2d2df3-03a2-45dd-a68c-df02788eab15"
      },
      "source": [
        "lazyClassifier2.random_forest_classifier()"
      ],
      "execution_count": 62,
      "outputs": [
        {
          "output_type": "stream",
          "text": [
            "The output of random forest classifier model:\n",
            "Accuracy = 82.103%\n",
            "Precision Accuracy = 82.103%\n",
            "Recall Accuracy = 84.444%\n",
            "f1score = 82.577%\n"
          ],
          "name": "stdout"
        },
        {
          "output_type": "display_data",
          "data": {
            "image/png": "[encoded data removed]",
            "text/plain": [
              "<Figure size 720x504 with 2 Axes>"
            ]
          },
          "metadata": {
            "tags": [],
            "needs_background": "light"
          }
        },
        {
          "output_type": "stream",
          "text": [
            "\n",
            "\n"
          ],
          "name": "stdout"
        }
      ]
    },
    {
      "cell_type": "code",
      "metadata": {
        "colab": {
          "base_uri": "https://localhost:8080/",
          "height": 583
        },
        "id": "GOPHROUqfo4A",
        "outputId": "4a1d4385-4037-4215-be08-680bc81edc05"
      },
      "source": [
        "lazyClassifier2.adaboost_classifier()"
      ],
      "execution_count": 63,
      "outputs": [
        {
          "output_type": "stream",
          "text": [
            "\n",
            "The output of adaboost classifier model:\n",
            "Accuracy = 77.406%\n",
            "Precision Accuracy = 77.406%\n",
            "Recall Accuracy = 87.049%\n",
            "f1score = 79.466%\n"
          ],
          "name": "stdout"
        },
        {
          "output_type": "display_data",
          "data": {
            "image/png": "[encoded data removed]",
            "text/plain": [
              "<Figure size 720x504 with 2 Axes>"
            ]
          },
          "metadata": {
            "tags": [],
            "needs_background": "light"
          }
        },
        {
          "output_type": "stream",
          "text": [
            "\n",
            "\n"
          ],
          "name": "stdout"
        }
      ]
    },
    {
      "cell_type": "code",
      "metadata": {
        "colab": {
          "base_uri": "https://localhost:8080/",
          "height": 583
        },
        "id": "L6Sl8ZDHf9ua",
        "outputId": "6ad2c4bb-e867-4f26-f78b-17bf40f3c112"
      },
      "source": [
        "lazyClassifier2.gradboost_classifier()"
      ],
      "execution_count": 64,
      "outputs": [
        {
          "output_type": "stream",
          "text": [
            "\n",
            "The output of gradient boost model:\n",
            "Accuracy = 81.188%\n",
            "Precision Accuracy = 81.188%\n",
            "Recall Accuracy = 86.189%\n",
            "f1score = 82.150%\n"
          ],
          "name": "stdout"
        },
        {
          "output_type": "display_data",
          "data": {
            "image/png": "[encoded data removed]",
            "text/plain": [
              "<Figure size 720x504 with 2 Axes>"
            ]
          },
          "metadata": {
            "tags": [],
            "needs_background": "light"
          }
        },
        {
          "output_type": "stream",
          "text": [
            "\n",
            "\n"
          ],
          "name": "stdout"
        }
      ]
    },
    {
      "cell_type": "code",
      "metadata": {
        "colab": {
          "base_uri": "https://localhost:8080/",
          "height": 583
        },
        "id": "e_wkpXhQf39d",
        "outputId": "ec6c007a-2a57-4a31-fbd6-546a653f91ff"
      },
      "source": [
        "lazyClassifier2.xgboost_classifier()"
      ],
      "execution_count": 65,
      "outputs": [
        {
          "output_type": "stream",
          "text": [
            "\n",
            "The output of xgboost classifier model:\n",
            "Accuracy = 81.033%\n",
            "Precision Accuracy = 81.033%\n",
            "Recall Accuracy = 86.118%\n",
            "f1score = 82.017%\n"
          ],
          "name": "stdout"
        },
        {
          "output_type": "display_data",
          "data": {
            "image/png": "[encoded data removed]",
            "text/plain": [
              "<Figure size 720x504 with 2 Axes>"
            ]
          },
          "metadata": {
            "tags": [],
            "needs_background": "light"
          }
        },
        {
          "output_type": "stream",
          "text": [
            "\n",
            "\n"
          ],
          "name": "stdout"
        }
      ]
    },
    {
      "cell_type": "code",
      "metadata": {
        "colab": {
          "base_uri": "https://localhost:8080/",
          "height": 1000
        },
        "id": "ChquaU-Nf9gn",
        "outputId": "45aaa29f-4eb2-499d-e607-ff56ef7a8520"
      },
      "source": [
        "lazyClassifier2.dnn_classifier(epoch=50)"
      ],
      "execution_count": 66,
      "outputs": [
        {
          "output_type": "stream",
          "text": [
            "Model: \"sequential_1\"\n",
            "_________________________________________________________________\n",
            "Layer (type)                 Output Shape              Param #   \n",
            "=================================================================\n",
            "normalization_2 (Normalizati (None, 7)                 15        \n",
            "_________________________________________________________________\n",
            "dense_4 (Dense)              (None, 32)                256       \n",
            "_________________________________________________________________\n",
            "dense_5 (Dense)              (None, 16)                528       \n",
            "_________________________________________________________________\n",
            "dense_6 (Dense)              (None, 4)                 68        \n",
            "_________________________________________________________________\n",
            "dense_7 (Dense)              (None, 1)                 5         \n",
            "=================================================================\n",
            "Total params: 872\n",
            "Trainable params: 857\n",
            "Non-trainable params: 15\n",
            "_________________________________________________________________\n",
            "The deep neural networks model's architecture:  None\n",
            "1390/1390 [==============================] - 3s 2ms/step - loss: 0.3890 - accuracy: 0.8117\n",
            "test loss [0.3890462815761566, 0.8117229342460632]\n",
            "Accuracy = 81.172%\n",
            "Precision Accuracy = 81.172%\n",
            "Recall Accuracy = 85.813%\n",
            "f1score = 82.073%\n"
          ],
          "name": "stdout"
        },
        {
          "output_type": "display_data",
          "data": {
            "image/png": "[encoded data removed]",
            "text/plain": [
              "<Figure size 720x504 with 2 Axes>"
            ]
          },
          "metadata": {
            "tags": [],
            "needs_background": "light"
          }
        },
        {
          "output_type": "stream",
          "text": [
            "\n",
            "\n"
          ],
          "name": "stdout"
        },
        {
          "output_type": "display_data",
          "data": {
            "image/png": "[encoded data removed]",
            "text/plain": [
              "<Figure size 432x288 with 1 Axes>"
            ]
          },
          "metadata": {
            "tags": [],
            "needs_background": "light"
          }
        },
        {
          "output_type": "display_data",
          "data": {
            "image/png": "[encoded data removed]",
            "text/plain": [
              "<Figure size 432x288 with 1 Axes>"
            ]
          },
          "metadata": {
            "tags": [],
            "needs_background": "light"
          }
        }
      ]
    },
    {
      "cell_type": "code",
      "metadata": {
        "id": "LX7GcuDNe2v_"
      },
      "source": [
        "# lazyClassifier2.svm_classifier()"
      ],
      "execution_count": 67,
      "outputs": []
    },
    {
      "cell_type": "markdown",
      "metadata": {
        "id": "P6KJ2wCzxVgN"
      },
      "source": [
        "Comment: The training and validation loss of the graph shows that the deep neural network model is fitting well."
      ]
    },
    {
      "cell_type": "markdown",
      "metadata": {
        "id": "LcsIqCQDtS_T"
      },
      "source": [
        "Comment: After performing undersampling, the preformance of the models have imporved well. The accuracy of the logistic regression has been improved, but still it is low relative to the other models. However, the predictive accuracy of the neural model has changed drastically. When the data was unblanced, it was the worst model at making preditions, but after the undersampling is performed, the deep neural netwok  model become the second/third best model at making good preditions. The DNN classifier's accuracy, precision, recall, and f1 scores become above 81%. So,the top three models with good accuracies are: (1) Random Forest (accuracy = 82.5%).\n",
        "(2). XGBoost( all accuracy, precision, recall, and f1 >= ~81.5%) (3) deep neural network and Gradient Boost( almost the same results, accuracy = ~81.2%, f1 score = 81.2%).So, In the next step, I will be applying hyperparameter tuning to three Random Forest, XGBoost and Deep Neural Network. Note that, I could have picked gradient boost instead of Deep Neural networks since they both have the same results/accuracy, but since XGBoost(extreme gradient boosting) is very much similar to Gradient boosting, I will leave Gradient boosting algorithm out, and I will tune otheer three models to see if I can even get a better results."
      ]
    },
    {
      "cell_type": "markdown",
      "metadata": {
        "id": "WsqBr_-aLhgf"
      },
      "source": [
        "## Fine-Tuning Models &  Cross Validation\n",
        "\n",
        "\n",
        "\n",
        "\n",
        "\n"
      ]
    },
    {
      "cell_type": "code",
      "metadata": {
        "id": "hYwunpHf5lmP"
      },
      "source": [
        "\n",
        "def dnn_classifier(optimizer='adam'):\n",
        "\n",
        "    '''deep neural networks classifier model'''\n",
        "    n_features = 7\n",
        "    # build the model\n",
        "    dnn_model = tf.keras.Sequential()\n",
        "    dnn_model.add(Dense(32,input_dim = n_features, activation='relu'))\n",
        "    dnn_model.add(Dense(16, activation='relu'))\n",
        "    dnn_model.add(Dense(4, activation='relu'))\n",
        "    dnn_model.add(Dense(1, activation='sigmoid'))\n",
        "\n",
        "    #compile the model\n",
        "    dnn_model.compile(\n",
        "            optimizer=optimizer,\n",
        "            loss=tf.keras.losses.BinaryCrossentropy(from_logits=True),\n",
        "            metrics=['accuracy']\n",
        "            \n",
        "    )\n",
        "\n",
        "    return dnn_model\n"
      ],
      "execution_count": 54,
      "outputs": []
    },
    {
      "cell_type": "code",
      "metadata": {
        "id": "q9iiuneh_Igh"
      },
      "source": [
        "def metrics(y_test,y_pred):\n",
        "    #  New Model Evaluation metrics \n",
        "    print('Accuracy Score: {:.3f}%'.format(accuracy_score(y_test,y_pred)*100))\n",
        "    print('Precision Score: {:.3f}%'.format(precision_score(y_test,y_pred)*100))\n",
        "    print('Recall Score: {:.3f}%'.format(recall_score(y_test,y_pred)*100))\n",
        "    print('F1 Score: {:.3f}% '.format(f1_score(y_test,y_pred)*100))\n",
        "    cm = confusion_matrix(y_test,y_pred)\n",
        "    cm = pd.DataFrame(cm, index = ['NO DELAY', 'DELAY'], columns = ['NO DELAY', 'DELAY'])\n",
        "    plt.figure(figsize = (10,7))\n",
        "    plt.title(\"Confusion Matrix\")\n",
        "    sns.heatmap(cm, annot=True)\n",
        "    plt.show()"
      ],
      "execution_count": 55,
      "outputs": []
    },
    {
      "cell_type": "code",
      "metadata": {
        "id": "W42q_kOkP4cm"
      },
      "source": [
        "# create model\n",
        "def tune_deep_nn_model(X_train,X_test,y_train,y_test):\n",
        "    \"\"\"it finds the best batch size, epochs,\n",
        "    optimizers that gives good accuracy,\n",
        "     and returns those parameters\n",
        "    \"\"\"\n",
        "\n",
        "    # create a model \n",
        "    model = KerasClassifier(build_fn=dnn_classifier)\n",
        "    # define batch sizes as a gridsearch parameters\n",
        "    batches = [None,100]\n",
        "    epochs =  [20,50]\n",
        "    optimizers = ['Adam','SGD','RMSProp','Adagrad']\n",
        "\n",
        "    grid_parameters = dict(batch_size=batches,epochs=epochs,optimizer=optimizers)\n",
        "    gridSearch = GridSearchCV(model,param_grid=grid_parameters,n_jobs = -1, cv = 2)\n",
        "    grid_model = gridSearch.fit(X_train,y_train,verbose=1)\n",
        "       \n",
        "    predictions = grid_model.predict(X_test).flatten()\n",
        "    y_pred =  np.where(predictions < 0.5, 0, 1)\n",
        "    #report metrics\n",
        "    metrics(y_test,y_pred)\n",
        "    \n",
        "    return  grid_model.best_params_\n",
        "\n"
      ],
      "execution_count": 75,
      "outputs": []
    },
    {
      "cell_type": "code",
      "metadata": {
        "id": "T8lODBx9Phez",
        "colab": {
          "base_uri": "https://localhost:8080/",
          "height": 1000
        },
        "outputId": "552da18b-d655-4a95-94b8-df61e6c9189a"
      },
      "source": [
        "dnn_best_parameters = tune_deep_nn_model(X_train,X_test, y_train, y_test)"
      ],
      "execution_count": 76,
      "outputs": [
        {
          "output_type": "stream",
          "text": [
            "Epoch 1/50\n",
            "3244/3244 [==============================] - 10s 3ms/step - loss: 0.6773 - accuracy: 0.5841\n",
            "Epoch 2/50\n",
            "3244/3244 [==============================] - 9s 3ms/step - loss: 0.5891 - accuracy: 0.6641\n",
            "Epoch 3/50\n",
            "3244/3244 [==============================] - 9s 3ms/step - loss: 0.5597 - accuracy: 0.6919\n",
            "Epoch 4/50\n",
            "3244/3244 [==============================] - 9s 3ms/step - loss: 0.5488 - accuracy: 0.6978\n",
            "Epoch 5/50\n",
            "3244/3244 [==============================] - 9s 3ms/step - loss: 0.5386 - accuracy: 0.7073\n",
            "Epoch 6/50\n",
            "3244/3244 [==============================] - 9s 3ms/step - loss: 0.5359 - accuracy: 0.7089\n",
            "Epoch 7/50\n",
            "3244/3244 [==============================] - 9s 3ms/step - loss: 0.5330 - accuracy: 0.7083\n",
            "Epoch 8/50\n",
            "3244/3244 [==============================] - 9s 3ms/step - loss: 0.5291 - accuracy: 0.7112\n",
            "Epoch 9/50\n",
            "3244/3244 [==============================] - 9s 3ms/step - loss: 0.5249 - accuracy: 0.7188\n",
            "Epoch 10/50\n",
            "3244/3244 [==============================] - 9s 3ms/step - loss: 0.5248 - accuracy: 0.7196\n",
            "Epoch 11/50\n",
            "3244/3244 [==============================] - 9s 3ms/step - loss: 0.5227 - accuracy: 0.7227\n",
            "Epoch 12/50\n",
            "3244/3244 [==============================] - 9s 3ms/step - loss: 0.5192 - accuracy: 0.7247\n",
            "Epoch 13/50\n",
            "3244/3244 [==============================] - 9s 3ms/step - loss: 0.5190 - accuracy: 0.7257\n",
            "Epoch 14/50\n",
            "3244/3244 [==============================] - 9s 3ms/step - loss: 0.5153 - accuracy: 0.7280\n",
            "Epoch 15/50\n",
            "3244/3244 [==============================] - 9s 3ms/step - loss: 0.5182 - accuracy: 0.7255\n",
            "Epoch 16/50\n",
            "3244/3244 [==============================] - 9s 3ms/step - loss: 0.5131 - accuracy: 0.7305\n",
            "Epoch 17/50\n",
            "3244/3244 [==============================] - 9s 3ms/step - loss: 0.5058 - accuracy: 0.7386\n",
            "Epoch 18/50\n",
            "3244/3244 [==============================] - 9s 3ms/step - loss: 0.5006 - accuracy: 0.7415\n",
            "Epoch 19/50\n",
            "3244/3244 [==============================] - 10s 3ms/step - loss: 0.4982 - accuracy: 0.7451\n",
            "Epoch 20/50\n",
            "3244/3244 [==============================] - 9s 3ms/step - loss: 0.4903 - accuracy: 0.7514\n",
            "Epoch 21/50\n",
            "3244/3244 [==============================] - 9s 3ms/step - loss: 0.4856 - accuracy: 0.7564\n",
            "Epoch 22/50\n",
            "3244/3244 [==============================] - 10s 3ms/step - loss: 0.4744 - accuracy: 0.7638\n",
            "Epoch 23/50\n",
            "3244/3244 [==============================] - 10s 3ms/step - loss: 0.4691 - accuracy: 0.7657\n",
            "Epoch 24/50\n",
            "3244/3244 [==============================] - 10s 3ms/step - loss: 0.4579 - accuracy: 0.7748\n",
            "Epoch 25/50\n",
            "3244/3244 [==============================] - 10s 3ms/step - loss: 0.4568 - accuracy: 0.7713\n",
            "Epoch 26/50\n",
            "3244/3244 [==============================] - 10s 3ms/step - loss: 0.4523 - accuracy: 0.7767\n",
            "Epoch 27/50\n",
            "3244/3244 [==============================] - 10s 3ms/step - loss: 0.4494 - accuracy: 0.7806\n",
            "Epoch 28/50\n",
            "3244/3244 [==============================] - 10s 3ms/step - loss: 0.4487 - accuracy: 0.7807\n",
            "Epoch 29/50\n",
            "3244/3244 [==============================] - 10s 3ms/step - loss: 0.4451 - accuracy: 0.7839\n",
            "Epoch 30/50\n",
            "3244/3244 [==============================] - 10s 3ms/step - loss: 0.4455 - accuracy: 0.7828\n",
            "Epoch 31/50\n",
            "3244/3244 [==============================] - 10s 3ms/step - loss: 0.4402 - accuracy: 0.7863\n",
            "Epoch 32/50\n",
            "3244/3244 [==============================] - 11s 3ms/step - loss: 0.4443 - accuracy: 0.7817\n",
            "Epoch 33/50\n",
            "3244/3244 [==============================] - 10s 3ms/step - loss: 0.4384 - accuracy: 0.7876\n",
            "Epoch 34/50\n",
            "3244/3244 [==============================] - 10s 3ms/step - loss: 0.4390 - accuracy: 0.7898\n",
            "Epoch 35/50\n",
            "3244/3244 [==============================] - 10s 3ms/step - loss: 0.4386 - accuracy: 0.7870\n",
            "Epoch 36/50\n",
            "3244/3244 [==============================] - 10s 3ms/step - loss: 0.4357 - accuracy: 0.7892\n",
            "Epoch 37/50\n",
            "3244/3244 [==============================] - 10s 3ms/step - loss: 0.4329 - accuracy: 0.7905\n",
            "Epoch 38/50\n",
            "3244/3244 [==============================] - 10s 3ms/step - loss: 0.4321 - accuracy: 0.7925\n",
            "Epoch 39/50\n",
            "3244/3244 [==============================] - 10s 3ms/step - loss: 0.4322 - accuracy: 0.7904\n",
            "Epoch 40/50\n",
            "3244/3244 [==============================] - 10s 3ms/step - loss: 0.4330 - accuracy: 0.7913\n",
            "Epoch 41/50\n",
            "3244/3244 [==============================] - 10s 3ms/step - loss: 0.4331 - accuracy: 0.7886\n",
            "Epoch 42/50\n",
            "3244/3244 [==============================] - 10s 3ms/step - loss: 0.4273 - accuracy: 0.7927\n",
            "Epoch 43/50\n",
            "3244/3244 [==============================] - 10s 3ms/step - loss: 0.4308 - accuracy: 0.7898\n",
            "Epoch 44/50\n",
            "3244/3244 [==============================] - 10s 3ms/step - loss: 0.4262 - accuracy: 0.7943\n",
            "Epoch 45/50\n",
            "3244/3244 [==============================] - 10s 3ms/step - loss: 0.4274 - accuracy: 0.7917\n",
            "Epoch 46/50\n",
            "3244/3244 [==============================] - 10s 3ms/step - loss: 0.4230 - accuracy: 0.7957\n",
            "Epoch 47/50\n",
            "3244/3244 [==============================] - 10s 3ms/step - loss: 0.4239 - accuracy: 0.7949\n",
            "Epoch 48/50\n",
            "3244/3244 [==============================] - 10s 3ms/step - loss: 0.4260 - accuracy: 0.7923\n",
            "Epoch 49/50\n",
            "3244/3244 [==============================] - 10s 3ms/step - loss: 0.4221 - accuracy: 0.7962\n",
            "Epoch 50/50\n",
            "3244/3244 [==============================] - 10s 3ms/step - loss: 0.4218 - accuracy: 0.7958\n"
          ],
          "name": "stdout"
        },
        {
          "output_type": "stream",
          "text": [
            "/usr/local/lib/python3.7/dist-packages/tensorflow/python/keras/engine/sequential.py:450: UserWarning: `model.predict_classes()` is deprecated and will be removed after 2021-01-01. Please use instead:* `np.argmax(model.predict(x), axis=-1)`,   if your model does multi-class classification   (e.g. if it uses a `softmax` last-layer activation).* `(model.predict(x) > 0.5).astype(\"int32\")`,   if your model does binary classification   (e.g. if it uses a `sigmoid` last-layer activation).\n",
            "  warnings.warn('`model.predict_classes()` is deprecated and '\n"
          ],
          "name": "stderr"
        },
        {
          "output_type": "stream",
          "text": [
            "Accuracy Score: 80.759%\n",
            "Precision Score: 78.349%\n",
            "Recall Score: 85.245%\n",
            "F1 Score: 81.652% \n"
          ],
          "name": "stdout"
        },
        {
          "output_type": "display_data",
          "data": {
            "image/png": "[encoded data removed]",
            "text/plain": [
              "<Figure size 720x504 with 2 Axes>"
            ]
          },
          "metadata": {
            "tags": [],
            "needs_background": "light"
          }
        }
      ]
    },
    {
      "cell_type": "code",
      "metadata": {
        "id": "51JXoVIBFCdv",
        "colab": {
          "base_uri": "https://localhost:8080/"
        },
        "outputId": "80dc55b9-fdf8-4484-8814-01aaf37923b2"
      },
      "source": [
        "dnn_best_parameters"
      ],
      "execution_count": 77,
      "outputs": [
        {
          "output_type": "execute_result",
          "data": {
            "text/plain": [
              "{'batch_size': None, 'epochs': 50, 'optimizer': 'Adam'}"
            ]
          },
          "metadata": {
            "tags": []
          },
          "execution_count": 77
        }
      ]
    },
    {
      "cell_type": "markdown",
      "metadata": {
        "id": "jDKPNDw5jYHt"
      },
      "source": [
        "Comment:\n",
        "---\n",
        "It is very time consuming, and takes a long time to do a grid search tuning with ```batch_size and epochs,and optimizers. Therefore, I used them in sequence, but the output of the model has not improved.```\n",
        "And I think that is the reason I have got an accuracy of around 76%, which worst than the one I found without tuning the model. However, I can take all the best parameters I found by tuning and use them at the same time to find a better result."
      ]
    },
    {
      "cell_type": "code",
      "metadata": {
        "id": "wLr1wR0lTXs2"
      },
      "source": [
        "\n",
        "def tune_random_forest_model(X_train, X_test, y_train,y_test):\n",
        "    # define models and parameters\n",
        "    rf_model = RandomForestClassifier()\n",
        "    n_estimators = [10, 100,1000]\n",
        "    max_depth = [7,9]\n",
        "    # define grid search\n",
        "    grid_parameters = dict(n_estimators=n_estimators,max_depth=max_depth)\n",
        "    cv = RepeatedStratifiedKFold(n_splits=2, n_repeats=1, random_state=1)\n",
        "    grid_search = GridSearchCV(estimator=rf_model, param_grid=grid_parameters, n_jobs=-1, cv=cv, scoring='accuracy',error_score=0,verbose=1)\n",
        "    grid_model = grid_search.fit(X_train, y_train)\n",
        "    # summarize results\n",
        "    print(\"Best: %f using %s\" % (grid_model.best_score_, grid_model.best_params_))\n",
        "    y_pred = grid_model.predict(X_test)\n",
        "    # New Model Evaluation metrics \n",
        "    metrics(y_test,y_pred)\n",
        "    return grid_model.best_params_"
      ],
      "execution_count": 60,
      "outputs": []
    },
    {
      "cell_type": "code",
      "metadata": {
        "colab": {
          "base_uri": "https://localhost:8080/",
          "height": 600
        },
        "id": "KXKV-Mx3T5vO",
        "outputId": "89a95847-ebe8-4d51-ed10-46518fe680cb"
      },
      "source": [
        "random_forest_parameters = tune_random_forest_model(X_train, X_test, y_train,y_test)\n",
        "random_forest_parameters"
      ],
      "execution_count": 61,
      "outputs": [
        {
          "output_type": "stream",
          "text": [
            "Fitting 2 folds for each of 6 candidates, totalling 12 fits\n"
          ],
          "name": "stdout"
        },
        {
          "output_type": "stream",
          "text": [
            "[Parallel(n_jobs=-1)]: Using backend LokyBackend with 2 concurrent workers.\n",
            "[Parallel(n_jobs=-1)]: Done  12 out of  12 | elapsed:  1.8min finished\n"
          ],
          "name": "stderr"
        },
        {
          "output_type": "stream",
          "text": [
            "Best: 0.794743 using {'max_depth': 9, 'n_estimators': 1000}\n",
            "Accuracy Score: 79.922%\n",
            "Precision Score: 76.228%\n",
            "Recall Score: 87.224%\n",
            "F1 Score: 81.356% \n"
          ],
          "name": "stdout"
        },
        {
          "output_type": "display_data",
          "data": {
            "image/png": "[encoded data removed]",
            "text/plain": [
              "<Figure size 720x504 with 2 Axes>"
            ]
          },
          "metadata": {
            "tags": [],
            "needs_background": "light"
          }
        },
        {
          "output_type": "execute_result",
          "data": {
            "text/plain": [
              "{'max_depth': 9, 'n_estimators': 1000}"
            ]
          },
          "metadata": {
            "tags": []
          },
          "execution_count": 61
        }
      ]
    },
    {
      "cell_type": "code",
      "metadata": {
        "id": "Gkf_rQttUBqP"
      },
      "source": [
        "def tune_xgboost_model(X_train, X_test, y_train,y_test):\n",
        "\n",
        "    # define models and parameters\n",
        "    xgb_model = XGBClassifier()\n",
        "    n_estimators = [100,1000]\n",
        "    learning_rate = [ 0.01, 0.1]\n",
        "    subsample = [0.7, 1.0]\n",
        "    max_depth = [ 7,9]\n",
        "    # define grid search\n",
        "    grid = dict(learning_rate=learning_rate, n_estimators=n_estimators, subsample=subsample, max_depth=max_depth)\n",
        "    cv = RepeatedStratifiedKFold(n_splits=2, n_repeats=1, random_state=1)\n",
        "    grid_search = GridSearchCV(estimator=xgb_model, param_grid=grid, n_jobs=-1, cv=cv, scoring='accuracy',error_score=0,verbose=1)\n",
        "    grid_model = grid_search.fit(X_train, y_train)\n",
        "    y_pred = grid_model.predict(X_test)\n",
        "    # report metrics\n",
        "    metrics(y_test,y_pred)\n",
        "    # summarize results\n",
        "    print(\"Best: %f using %s\" % (grid_model.best_score_, grid_model.best_params_))\n",
        "    return grid_model.best_params_"
      ],
      "execution_count": 66,
      "outputs": []
    },
    {
      "cell_type": "code",
      "metadata": {
        "id": "GHJ8EYMlUctf",
        "colab": {
          "base_uri": "https://localhost:8080/",
          "height": 600
        },
        "outputId": "0cb158c5-5e51-499d-c471-507a99752e25"
      },
      "source": [
        "xgb_parameters = tune_xgboost_model(X_train, X_test, y_train,y_test)\n",
        "xgb_parameters"
      ],
      "execution_count": 67,
      "outputs": [
        {
          "output_type": "stream",
          "text": [
            "Fitting 2 folds for each of 16 candidates, totalling 32 fits\n"
          ],
          "name": "stdout"
        },
        {
          "output_type": "stream",
          "text": [
            "[Parallel(n_jobs=-1)]: Using backend LokyBackend with 2 concurrent workers.\n",
            "[Parallel(n_jobs=-1)]: Done  32 out of  32 | elapsed: 16.2min finished\n"
          ],
          "name": "stderr"
        },
        {
          "output_type": "stream",
          "text": [
            "Accuracy Score: 82.984%\n",
            "Precision Score: 80.291%\n",
            "Recall Score: 87.631%\n",
            "F1 Score: 83.801% \n"
          ],
          "name": "stdout"
        },
        {
          "output_type": "display_data",
          "data": {
            "image/png": "[encoded data removed]",
            "text/plain": [
              "<Figure size 720x504 with 2 Axes>"
            ]
          },
          "metadata": {
            "tags": [],
            "needs_background": "light"
          }
        },
        {
          "output_type": "stream",
          "text": [
            "Best: 0.822677 using {'learning_rate': 0.01, 'max_depth': 9, 'n_estimators': 1000, 'subsample': 0.7}\n"
          ],
          "name": "stdout"
        },
        {
          "output_type": "execute_result",
          "data": {
            "text/plain": [
              "{'learning_rate': 0.01, 'max_depth': 9, 'n_estimators': 1000, 'subsample': 0.7}"
            ]
          },
          "metadata": {
            "tags": []
          },
          "execution_count": 67
        }
      ]
    },
    {
      "cell_type": "code",
      "metadata": {
        "id": "7Z7YXcgGUoI1"
      },
      "source": [
        "\n",
        "def votingClassifiers(X_train, X_test, y_train,y_test,n_estimators=10,max_depth=9,subsample=0.7,lr=0.01,rf_n_estimators=10,rf_depth=7):\n",
        "    '''a voting/enseble classifier where two best and tuned models are combined to build to make an accurate prediction.'''\n",
        "\n",
        "    random_forest_model = RandomForestClassifier(n_estimators=rf_n_estimators, max_depth=rf_depth)\n",
        "    xgboost_model = XGBClassifier(n_estimators=n_estimators, learning_rate=lr, max_depth=max_depth,subsample=subsample)\n",
        "    \n",
        "    # y_pred_cnn = cnn_classifier(X_train,y_train,X_test)\n",
        "    models = [('fr',random_forest_model),('xgb',xgboost_model)]\n",
        "    # create the ensemble model\n",
        "    ensemble = VotingClassifier(estimators=models,voting='soft')\n",
        "    ensemble.fit(X_train,y_train)\n",
        "    \n",
        "    y_pred = ensemble.predict(X_test)\n",
        "    # y_pred = ensemble.predict_proba(X_test)\n",
        "    # New Model Evaluation metrics \n",
        "    metrics(y_test,y_pred)\n"
      ],
      "execution_count": 80,
      "outputs": []
    },
    {
      "cell_type": "code",
      "metadata": {
        "id": "ij1tmST-ZQvJ"
      },
      "source": [
        "# the the tuned parameters form XGBoost Model\n",
        "best_learning_rate = xgb_parameters['learning_rate']\n",
        "best_max_depth     = xgb_parameters['max_depth']\n",
        "best_subsample     = xgb_parameters['subsample']\n",
        "best_n_estimators  = xgb_parameters['n_estimators']\n",
        "rf_n_trees         =  random_forest_parameters['n_estimators']\n",
        "rf_max_depth       = random_forest_parameters['max_depth']"
      ],
      "execution_count": 81,
      "outputs": []
    },
    {
      "cell_type": "code",
      "metadata": {
        "id": "GWSdpET3YxJ_"
      },
      "source": [
        "# get the tuned parameters form random forest\n",
        "best_learning_rate = xgb_parameters['learning_rate']\n",
        "best_max_depth     = xgb_parameters['max_depth']\n",
        "best_subsample     = xgb_parameters['subsample']\n",
        "best_n_estimators  = xgb_parameters['n_estimators']\n",
        "rf_n_trees         =  random_forest_parameters['n_estimators']\n",
        "rf_max_depth       = random_forest_parameters['max_depth']\n"
      ],
      "execution_count": 82,
      "outputs": []
    },
    {
      "cell_type": "code",
      "metadata": {
        "colab": {
          "base_uri": "https://localhost:8080/",
          "height": 513
        },
        "id": "evvg1Lvq4i8_",
        "outputId": "2423df3a-6c02-42e6-d95e-d7812a16b5f1"
      },
      "source": [
        "votingClassifiers(X_train, X_test, y_train,y_test,n_estimators=best_n_estimators,\n",
        "                  max_depth=best_max_depth,subsample=best_subsample,\n",
        "                  lr=best_learning_rate,rf_n_estimators=rf_n_trees,rf_depth=rf_max_depth\n",
        "                  \n",
        "                )"
      ],
      "execution_count": 83,
      "outputs": [
        {
          "output_type": "stream",
          "text": [
            "Accuracy Score: 82.847%\n",
            "Precision Score: 80.071%\n",
            "Recall Score: 87.667%\n",
            "F1 Score: 83.697% \n"
          ],
          "name": "stdout"
        },
        {
          "output_type": "display_data",
          "data": {
            "image/png": "[encoded data removed]",
            "text/plain": [
              "<Figure size 720x504 with 2 Axes>"
            ]
          },
          "metadata": {
            "tags": [],
            "needs_background": "light"
          }
        }
      ]
    },
    {
      "cell_type": "markdown",
      "metadata": {
        "id": "c3y0Wis892QZ"
      },
      "source": [
        "**Conclusion:**\n",
        "------\n",
        "```In conclusion, I think that the DNN model, XGBoost, and Random Forest models could be really tuned to get very good results. However, they require a lot of time.So, for now, this should be enough.Overall, it was a good project to learn a lot of concepts[covered in class] at once.```\n",
        "\n"
      ]
    }
  ]
}